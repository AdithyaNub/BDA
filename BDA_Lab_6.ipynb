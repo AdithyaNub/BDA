{
  "nbformat": 4,
  "nbformat_minor": 0,
  "metadata": {
    "colab": {
      "provenance": []
    },
    "kernelspec": {
      "name": "python3",
      "display_name": "Python 3"
    },
    "language_info": {
      "name": "python"
    }
  },
  "cells": [
    {
      "cell_type": "markdown",
      "source": [
        "# **Lab 6: SQL with PySpark**\n",
        "\n",
        "Name: Madhavi Chitnis\n",
        "\n",
        "PRN: 20220802070\n",
        "\n"
      ],
      "metadata": {
        "id": "b9uaYSs_369Y"
      }
    },
    {
      "cell_type": "markdown",
      "source": [
        "\n",
        "\n",
        "---\n",
        "\n"
      ],
      "metadata": {
        "id": "ZGJahVpHNGAd"
      }
    },
    {
      "cell_type": "code",
      "source": [
        "from google.colab import files\n",
        "uploaded = files.upload()"
      ],
      "metadata": {
        "colab": {
          "base_uri": "https://localhost:8080/",
          "height": 73
        },
        "id": "2mt7Ch1F-AeY",
        "outputId": "c3a280e4-3a4c-4cb5-8001-322e8571e385"
      },
      "execution_count": null,
      "outputs": [
        {
          "output_type": "display_data",
          "data": {
            "text/plain": [
              "<IPython.core.display.HTML object>"
            ],
            "text/html": [
              "\n",
              "     <input type=\"file\" id=\"files-3fbc78bc-2106-4eaf-aa1c-05c20590a3ce\" name=\"files[]\" multiple disabled\n",
              "        style=\"border:none\" />\n",
              "     <output id=\"result-3fbc78bc-2106-4eaf-aa1c-05c20590a3ce\">\n",
              "      Upload widget is only available when the cell has been executed in the\n",
              "      current browser session. Please rerun this cell to enable.\n",
              "      </output>\n",
              "      <script>// Copyright 2017 Google LLC\n",
              "//\n",
              "// Licensed under the Apache License, Version 2.0 (the \"License\");\n",
              "// you may not use this file except in compliance with the License.\n",
              "// You may obtain a copy of the License at\n",
              "//\n",
              "//      http://www.apache.org/licenses/LICENSE-2.0\n",
              "//\n",
              "// Unless required by applicable law or agreed to in writing, software\n",
              "// distributed under the License is distributed on an \"AS IS\" BASIS,\n",
              "// WITHOUT WARRANTIES OR CONDITIONS OF ANY KIND, either express or implied.\n",
              "// See the License for the specific language governing permissions and\n",
              "// limitations under the License.\n",
              "\n",
              "/**\n",
              " * @fileoverview Helpers for google.colab Python module.\n",
              " */\n",
              "(function(scope) {\n",
              "function span(text, styleAttributes = {}) {\n",
              "  const element = document.createElement('span');\n",
              "  element.textContent = text;\n",
              "  for (const key of Object.keys(styleAttributes)) {\n",
              "    element.style[key] = styleAttributes[key];\n",
              "  }\n",
              "  return element;\n",
              "}\n",
              "\n",
              "// Max number of bytes which will be uploaded at a time.\n",
              "const MAX_PAYLOAD_SIZE = 100 * 1024;\n",
              "\n",
              "function _uploadFiles(inputId, outputId) {\n",
              "  const steps = uploadFilesStep(inputId, outputId);\n",
              "  const outputElement = document.getElementById(outputId);\n",
              "  // Cache steps on the outputElement to make it available for the next call\n",
              "  // to uploadFilesContinue from Python.\n",
              "  outputElement.steps = steps;\n",
              "\n",
              "  return _uploadFilesContinue(outputId);\n",
              "}\n",
              "\n",
              "// This is roughly an async generator (not supported in the browser yet),\n",
              "// where there are multiple asynchronous steps and the Python side is going\n",
              "// to poll for completion of each step.\n",
              "// This uses a Promise to block the python side on completion of each step,\n",
              "// then passes the result of the previous step as the input to the next step.\n",
              "function _uploadFilesContinue(outputId) {\n",
              "  const outputElement = document.getElementById(outputId);\n",
              "  const steps = outputElement.steps;\n",
              "\n",
              "  const next = steps.next(outputElement.lastPromiseValue);\n",
              "  return Promise.resolve(next.value.promise).then((value) => {\n",
              "    // Cache the last promise value to make it available to the next\n",
              "    // step of the generator.\n",
              "    outputElement.lastPromiseValue = value;\n",
              "    return next.value.response;\n",
              "  });\n",
              "}\n",
              "\n",
              "/**\n",
              " * Generator function which is called between each async step of the upload\n",
              " * process.\n",
              " * @param {string} inputId Element ID of the input file picker element.\n",
              " * @param {string} outputId Element ID of the output display.\n",
              " * @return {!Iterable<!Object>} Iterable of next steps.\n",
              " */\n",
              "function* uploadFilesStep(inputId, outputId) {\n",
              "  const inputElement = document.getElementById(inputId);\n",
              "  inputElement.disabled = false;\n",
              "\n",
              "  const outputElement = document.getElementById(outputId);\n",
              "  outputElement.innerHTML = '';\n",
              "\n",
              "  const pickedPromise = new Promise((resolve) => {\n",
              "    inputElement.addEventListener('change', (e) => {\n",
              "      resolve(e.target.files);\n",
              "    });\n",
              "  });\n",
              "\n",
              "  const cancel = document.createElement('button');\n",
              "  inputElement.parentElement.appendChild(cancel);\n",
              "  cancel.textContent = 'Cancel upload';\n",
              "  const cancelPromise = new Promise((resolve) => {\n",
              "    cancel.onclick = () => {\n",
              "      resolve(null);\n",
              "    };\n",
              "  });\n",
              "\n",
              "  // Wait for the user to pick the files.\n",
              "  const files = yield {\n",
              "    promise: Promise.race([pickedPromise, cancelPromise]),\n",
              "    response: {\n",
              "      action: 'starting',\n",
              "    }\n",
              "  };\n",
              "\n",
              "  cancel.remove();\n",
              "\n",
              "  // Disable the input element since further picks are not allowed.\n",
              "  inputElement.disabled = true;\n",
              "\n",
              "  if (!files) {\n",
              "    return {\n",
              "      response: {\n",
              "        action: 'complete',\n",
              "      }\n",
              "    };\n",
              "  }\n",
              "\n",
              "  for (const file of files) {\n",
              "    const li = document.createElement('li');\n",
              "    li.append(span(file.name, {fontWeight: 'bold'}));\n",
              "    li.append(span(\n",
              "        `(${file.type || 'n/a'}) - ${file.size} bytes, ` +\n",
              "        `last modified: ${\n",
              "            file.lastModifiedDate ? file.lastModifiedDate.toLocaleDateString() :\n",
              "                                    'n/a'} - `));\n",
              "    const percent = span('0% done');\n",
              "    li.appendChild(percent);\n",
              "\n",
              "    outputElement.appendChild(li);\n",
              "\n",
              "    const fileDataPromise = new Promise((resolve) => {\n",
              "      const reader = new FileReader();\n",
              "      reader.onload = (e) => {\n",
              "        resolve(e.target.result);\n",
              "      };\n",
              "      reader.readAsArrayBuffer(file);\n",
              "    });\n",
              "    // Wait for the data to be ready.\n",
              "    let fileData = yield {\n",
              "      promise: fileDataPromise,\n",
              "      response: {\n",
              "        action: 'continue',\n",
              "      }\n",
              "    };\n",
              "\n",
              "    // Use a chunked sending to avoid message size limits. See b/62115660.\n",
              "    let position = 0;\n",
              "    do {\n",
              "      const length = Math.min(fileData.byteLength - position, MAX_PAYLOAD_SIZE);\n",
              "      const chunk = new Uint8Array(fileData, position, length);\n",
              "      position += length;\n",
              "\n",
              "      const base64 = btoa(String.fromCharCode.apply(null, chunk));\n",
              "      yield {\n",
              "        response: {\n",
              "          action: 'append',\n",
              "          file: file.name,\n",
              "          data: base64,\n",
              "        },\n",
              "      };\n",
              "\n",
              "      let percentDone = fileData.byteLength === 0 ?\n",
              "          100 :\n",
              "          Math.round((position / fileData.byteLength) * 100);\n",
              "      percent.textContent = `${percentDone}% done`;\n",
              "\n",
              "    } while (position < fileData.byteLength);\n",
              "  }\n",
              "\n",
              "  // All done.\n",
              "  yield {\n",
              "    response: {\n",
              "      action: 'complete',\n",
              "    }\n",
              "  };\n",
              "}\n",
              "\n",
              "scope.google = scope.google || {};\n",
              "scope.google.colab = scope.google.colab || {};\n",
              "scope.google.colab._files = {\n",
              "  _uploadFiles,\n",
              "  _uploadFilesContinue,\n",
              "};\n",
              "})(self);\n",
              "</script> "
            ]
          },
          "metadata": {}
        },
        {
          "output_type": "stream",
          "name": "stdout",
          "text": [
            "Saving investments.csv to investments (1).csv\n"
          ]
        }
      ]
    },
    {
      "cell_type": "code",
      "source": [
        "from pyspark.sql import SparkSession"
      ],
      "metadata": {
        "id": "WPEkNq5Y9jEx"
      },
      "execution_count": null,
      "outputs": []
    },
    {
      "cell_type": "code",
      "execution_count": null,
      "metadata": {
        "id": "tB5yuWax3ji-"
      },
      "outputs": [],
      "source": [
        "spark = SparkSession.builder.appName(\"SparkSQL\").getOrCreate()"
      ]
    },
    {
      "cell_type": "code",
      "source": [
        "df = spark.read.csv(\"investments.csv\", header=True, inferSchema=True)"
      ],
      "metadata": {
        "id": "kPUI-4fs-Zbo"
      },
      "execution_count": null,
      "outputs": []
    },
    {
      "cell_type": "markdown",
      "source": [
        "### **Read the data**\n"
      ],
      "metadata": {
        "id": "nPsB7QWZ-Jpv"
      }
    },
    {
      "cell_type": "code",
      "source": [
        "df.show()"
      ],
      "metadata": {
        "colab": {
          "base_uri": "https://localhost:8080/"
        },
        "id": "VBduWcRv-G5Y",
        "outputId": "0db64610-dac5-449d-a5dc-ccd7c134381a"
      },
      "execution_count": null,
      "outputs": [
        {
          "output_type": "stream",
          "name": "stdout",
          "text": [
            "+--------------------+------------------+--------------------+--------------------+--------------------+-------------------+---------+------------+----------+--------------------+-----------------+--------------+----------+-------------------+---------------+------------+----------------+---------------+-------+-------+-------------------+-----------+----------------+--------------+-----+-----+--------------+---------------+-------------+----------------+--------------------+-------+-------+-------+-------+-------+-------+-------+-------+\n",
            "|           permalink|              name|        homepage_url|       category_list|             market | funding_total_usd |   status|country_code|state_code|              region|             city|funding_rounds|founded_at|      founded_month|founded_quarter|founded_year|first_funding_at|last_funding_at|   seed|venture|equity_crowdfunding|undisclosed|convertible_note|debt_financing|angel|grant|private_equity|post_ipo_equity|post_ipo_debt|secondary_market|product_crowdfunding|round_A|round_B|round_C|round_D|round_E|round_F|round_G|round_H|\n",
            "+--------------------+------------------+--------------------+--------------------+--------------------+-------------------+---------+------------+----------+--------------------+-----------------+--------------+----------+-------------------+---------------+------------+----------------+---------------+-------+-------+-------------------+-----------+----------------+--------------+-----+-----+--------------+---------------+-------------+----------------+--------------------+-------+-------+-------+-------+-------+-------+-------+-------+\n",
            "|/organization/way...|          #waywire|http://www.waywir...||Entertainment|Po...|               News |         17,50,000 | acquired|         USA|        NY|       New York City|         New York|             1|2012-06-01|2012-06-01 00:00:00|        2012-Q2|        2012|      2012-06-30|     2012-06-30|1750000|      0|                  0|          0|               0|             0|    0|    0|             0|              0|            0|               0|                   0|      0|      0|      0|      0|      0|      0|      0|      0|\n",
            "|/organization/tv-...|&TV Communications|http://enjoyandtv...|             |Games||              Games |         40,00,000 |operating|         USA|        CA|         Los Angeles|      Los Angeles|             2|      NULL|               NULL|           NULL|        NULL|      2010-06-04|     2010-09-23|      0|4000000|                  0|          0|               0|             0|    0|    0|             0|              0|            0|               0|                   0|      0|      0|      0|      0|      0|      0|      0|      0|\n",
            "|/organization/roc...| 'Rock' Your Paper|http://www.rockyo...||Publishing|Educa...|         Publishing |            40,000 |operating|         EST|      NULL|             Tallinn|          Tallinn|             1|2012-10-26|2012-10-01 00:00:00|        2012-Q4|        2012|      2012-08-09|     2012-08-09|  40000|      0|                  0|          0|               0|             0|    0|    0|             0|              0|            0|               0|                   0|      0|      0|      0|      0|      0|      0|      0|      0|\n",
            "|/organization/in-...| (In)Touch Network|http://www.InTouc...||Electronics|Guid...|        Electronics |         15,00,000 |operating|         GBR|      NULL|              London|           London|             1|2011-04-01|2011-04-01 00:00:00|        2011-Q2|        2011|      2011-04-01|     2011-04-01|1500000|      0|                  0|          0|               0|             0|    0|    0|             0|              0|            0|               0|                   0|      0|      0|      0|      0|      0|      0|      0|      0|\n",
            "|/organization/r-r...|-R- Ranch and Mine|                NULL||Tourism|Entertai...|            Tourism |            60,000 |operating|         USA|        TX|              Dallas|       Fort Worth|             2|2014-01-01|2014-01-01 00:00:00|        2014-Q1|        2014|      2014-08-17|     2014-09-26|      0|      0|              60000|          0|               0|             0|    0|    0|             0|              0|            0|               0|                   0|      0|      0|      0|      0|      0|      0|      0|      0|\n",
            "|/organization/clu...|     .Club Domains|    http://nic.club/|          |Software||           Software |         70,00,000 |     NULL|         USA|        FL|      Ft. Lauderdale|     Oakland Park|             1|2011-10-10|2011-10-01 00:00:00|        2011-Q4|        2011|      2013-05-31|     2013-05-31|      0|7000000|                  0|          0|               0|             0|    0|    0|             0|              0|            0|               0|                   0|      0|7000000|      0|      0|      0|      0|      0|      0|\n",
            "|/organization/fox...|     .Fox Networks|http://www.dotfox...|       |Advertising||        Advertising |         49,12,393 |   closed|         ARG|      NULL|        Buenos Aires|     Buenos Aires|             1|      NULL|               NULL|           NULL|        NULL|      2007-01-16|     2007-01-16|      0|      0|                  0|    4912393|               0|             0|    0|    0|             0|              0|            0|               0|                   0|      0|      0|      0|      0|      0|      0|      0|      0|\n",
            "|/organization/0-6...|           0-6.com|  http://www.0-6.com|       |Curated Web||        Curated Web |         20,00,000 |operating|        NULL|      NULL|                NULL|             NULL|             1|2007-01-01|2007-01-01 00:00:00|        2007-Q1|        2007|      2008-03-19|     2008-03-19|      0|2000000|                  0|          0|               0|             0|    0|    0|             0|              0|            0|               0|                   0|2000000|      0|      0|      0|      0|      0|      0|      0|\n",
            "|/organization/004...|  004 Technologies|http://004gmbh.de...|          |Software||           Software |               -   |operating|         USA|        IL|Springfield, Illi...|        Champaign|             1|2010-01-01|2010-01-01 00:00:00|        2010-Q1|        2010|      2014-07-24|     2014-07-24|      0|      0|                  0|          0|               0|             0|    0|    0|             0|              0|            0|               0|                   0|      0|      0|      0|      0|      0|      0|      0|      0|\n",
            "|/organization/01g...|01Games Technology|http://www.01game...|             |Games||              Games |            41,250 |operating|         HKG|      NULL|           Hong Kong|        Hong Kong|             1|      NULL|               NULL|           NULL|        NULL|      2014-07-01|     2014-07-01|  41250|      0|                  0|          0|               0|             0|    0|    0|             0|              0|            0|               0|                   0|      0|      0|      0|      0|      0|      0|      0|      0|\n",
            "|/organization/1-2...|       1,2,3 Listo|http://www.123lis...|        |E-Commerce||         E-Commerce |            40,000 |operating|         CHL|      NULL|            Santiago|       Las Condes|             1|2012-01-01|2012-01-01 00:00:00|        2012-Q1|        2012|      2013-02-18|     2013-02-18|  40000|      0|                  0|          0|               0|             0|    0|    0|             0|              0|            0|               0|                   0|      0|      0|      0|      0|      0|      0|      0|      0|\n",
            "|/organization/1-4...|           1-4 All|                NULL||Entertainment|Ga...|           Software |               -   |operating|         USA|        NC|          NC - Other|Connellys Springs|             1|      NULL|               NULL|           NULL|        NULL|      2013-04-21|     2013-04-21|      0|      0|                  0|          0|               0|             0|    0|    0|             0|              0|            0|               0|                   0|      0|      0|      0|      0|      0|      0|      0|      0|\n",
            "|/organization/1-8...|     1-800-DENTIST|http://www.1800de...||Health and Welln...| Health and Welln...|               -   |operating|         USA|        CA|         Los Angeles|      Los Angeles|             1|1986-01-01|1986-01-01 00:00:00|        1986-Q1|        1986|      2010-08-19|     2010-08-19|      0|      0|                  0|          0|               0|             0|    0|    0|             0|              0|            0|               0|                   0|      0|      0|      0|      0|      0|      0|      0|      0|\n",
            "|/organization/1-8...|     1-800-DOCTORS|http://1800doctor...||Health and Welln...| Health and Welln...|         17,50,000 |operating|         USA|        NJ|              Newark|           Iselin|             1|1984-01-01|1984-01-01 00:00:00|        1984-Q1|        1984|      2011-03-02|     2011-03-02|      0|      0|                  0|          0|         1750000|             0|    0|    0|             0|              0|            0|               0|                   0|      0|      0|      0|      0|      0|      0|      0|      0|\n",
            "|/organization/1-6...|  1.618 Technology|                NULL|       |Real Estate||        Real Estate |               -   |operating|         USA|        FL|             Orlando|          Orlando|             1|2013-12-07|2013-12-01 00:00:00|        2013-Q4|        2013|      2014-01-22|     2014-01-22|      0|      0|                  0|          0|               0|             0|    0|    0|             0|              0|            0|               0|                   0|      0|      0|      0|      0|      0|      0|      0|      0|\n",
            "|/organization/10-...|   10 Minutes With|http://10minutesw...|         |Education||          Education |         44,00,000 |operating|         GBR|      NULL|              London|           London|             2|2013-01-01|2013-01-01 00:00:00|        2013-Q1|        2013|      2013-01-01|     2014-10-09| 400000|4000000|                  0|          0|               0|             0|    0|    0|             0|              0|            0|               0|                   0|4000000|      0|      0|      0|      0|      0|      0|      0|\n",
            "|/organization/10-...|       10-20 Media|http://www.10-20m...|        |E-Commerce||         E-Commerce |         20,50,000 |operating|         USA|        MD|           Baltimore|         Woodbine|             4|2001-01-01|2001-01-01 00:00:00|        2001-Q1|        2001|      2009-06-18|     2011-12-28|      0|      0|                  0|          0|               0|       2050000|    0|    0|             0|              0|            0|               0|                   0|      0|      0|      0|      0|      0|      0|      0|      0|\n",
            "|/organization/100...|        1000 Corks|http://1000corks.com|            |Search||             Search |            40,000 |operating|         USA|        OR|    Portland, Oregon|      Lake Oswego|             1|2008-01-01|2008-01-01 00:00:00|        2008-Q1|        2008|      2011-08-23|     2011-08-23|  40000|      0|                  0|          0|               0|             0|    0|    0|             0|              0|            0|               0|                   0|      0|      0|      0|      0|      0|      0|      0|      0|\n",
            "|/organization/100...|      1000 Markets|http://www.1000ma...||Marketplaces|Art...|       Marketplaces |          5,00,000 | acquired|        NULL|      NULL|                NULL|             NULL|             1|2009-01-01|2009-01-01 00:00:00|        2009-Q1|        2009|      2009-05-15|     2009-05-15| 500000|      0|                  0|          0|               0|             0|    0|    0|             0|              0|            0|               0|                   0|      0|      0|      0|      0|      0|      0|      0|      0|\n",
            "|/organization/100...| 1000jobboersen.de|http://www.1000jo...|       |Curated Web||        Curated Web |               -   |operating|         DEU|      NULL|              Berlin|           Berlin|             1|      NULL|               NULL|           NULL|        NULL|      2011-09-16|     2011-09-16|      0|      0|                  0|          0|               0|             0|    0|    0|             0|              0|            0|               0|                   0|      0|      0|      0|      0|      0|      0|      0|      0|\n",
            "+--------------------+------------------+--------------------+--------------------+--------------------+-------------------+---------+------------+----------+--------------------+-----------------+--------------+----------+-------------------+---------------+------------+----------------+---------------+-------+-------+-------------------+-----------+----------------+--------------+-----+-----+--------------+---------------+-------------+----------------+--------------------+-------+-------+-------+-------+-------+-------+-------+-------+\n",
            "only showing top 20 rows\n",
            "\n"
          ]
        }
      ]
    },
    {
      "cell_type": "code",
      "source": [
        "df.columns"
      ],
      "metadata": {
        "colab": {
          "base_uri": "https://localhost:8080/"
        },
        "id": "EDAlFjDk9uVp",
        "outputId": "6f891f92-ac18-4bee-e31e-22afd4804bf9"
      },
      "execution_count": null,
      "outputs": [
        {
          "output_type": "execute_result",
          "data": {
            "text/plain": [
              "['permalink',\n",
              " 'name',\n",
              " 'homepage_url',\n",
              " 'category_list',\n",
              " ' market ',\n",
              " ' funding_total_usd ',\n",
              " 'status',\n",
              " 'country_code',\n",
              " 'state_code',\n",
              " 'region',\n",
              " 'city',\n",
              " 'funding_rounds',\n",
              " 'founded_at',\n",
              " 'founded_month',\n",
              " 'founded_quarter',\n",
              " 'founded_year',\n",
              " 'first_funding_at',\n",
              " 'last_funding_at',\n",
              " 'seed',\n",
              " 'venture',\n",
              " 'equity_crowdfunding',\n",
              " 'undisclosed',\n",
              " 'convertible_note',\n",
              " 'debt_financing',\n",
              " 'angel',\n",
              " 'grant',\n",
              " 'private_equity',\n",
              " 'post_ipo_equity',\n",
              " 'post_ipo_debt',\n",
              " 'secondary_market',\n",
              " 'product_crowdfunding',\n",
              " 'round_A',\n",
              " 'round_B',\n",
              " 'round_C',\n",
              " 'round_D',\n",
              " 'round_E',\n",
              " 'round_F',\n",
              " 'round_G',\n",
              " 'round_H']"
            ]
          },
          "metadata": {},
          "execution_count": 8
        }
      ]
    },
    {
      "cell_type": "code",
      "source": [
        "df.printSchema()"
      ],
      "metadata": {
        "colab": {
          "base_uri": "https://localhost:8080/"
        },
        "id": "qLegrVBm_AEA",
        "outputId": "61e7ac42-4774-48c8-9925-a0eaf967841b"
      },
      "execution_count": null,
      "outputs": [
        {
          "output_type": "stream",
          "name": "stdout",
          "text": [
            "root\n",
            " |-- permalink: string (nullable = true)\n",
            " |-- name: string (nullable = true)\n",
            " |-- homepage_url: string (nullable = true)\n",
            " |-- category_list: string (nullable = true)\n",
            " |--  market : string (nullable = true)\n",
            " |--  funding_total_usd : string (nullable = true)\n",
            " |-- status: string (nullable = true)\n",
            " |-- country_code: string (nullable = true)\n",
            " |-- state_code: string (nullable = true)\n",
            " |-- region: string (nullable = true)\n",
            " |-- city: string (nullable = true)\n",
            " |-- funding_rounds: integer (nullable = true)\n",
            " |-- founded_at: date (nullable = true)\n",
            " |-- founded_month: timestamp (nullable = true)\n",
            " |-- founded_quarter: string (nullable = true)\n",
            " |-- founded_year: integer (nullable = true)\n",
            " |-- first_funding_at: date (nullable = true)\n",
            " |-- last_funding_at: date (nullable = true)\n",
            " |-- seed: integer (nullable = true)\n",
            " |-- venture: long (nullable = true)\n",
            " |-- equity_crowdfunding: integer (nullable = true)\n",
            " |-- undisclosed: integer (nullable = true)\n",
            " |-- convertible_note: integer (nullable = true)\n",
            " |-- debt_financing: long (nullable = true)\n",
            " |-- angel: integer (nullable = true)\n",
            " |-- grant: integer (nullable = true)\n",
            " |-- private_equity: long (nullable = true)\n",
            " |-- post_ipo_equity: long (nullable = true)\n",
            " |-- post_ipo_debt: long (nullable = true)\n",
            " |-- secondary_market: integer (nullable = true)\n",
            " |-- product_crowdfunding: integer (nullable = true)\n",
            " |-- round_A: integer (nullable = true)\n",
            " |-- round_B: integer (nullable = true)\n",
            " |-- round_C: integer (nullable = true)\n",
            " |-- round_D: integer (nullable = true)\n",
            " |-- round_E: integer (nullable = true)\n",
            " |-- round_F: integer (nullable = true)\n",
            " |-- round_G: integer (nullable = true)\n",
            " |-- round_H: integer (nullable = true)\n",
            "\n"
          ]
        }
      ]
    },
    {
      "cell_type": "code",
      "source": [
        "df.describe().show()"
      ],
      "metadata": {
        "colab": {
          "base_uri": "https://localhost:8080/"
        },
        "id": "1mYM63G1_LgB",
        "outputId": "4d4becb6-1c40-4d33-9a2b-e4aaf4e60aa0"
      },
      "execution_count": null,
      "outputs": [
        {
          "output_type": "stream",
          "name": "stdout",
          "text": [
            "+-------+--------------------+----------------+--------------------+--------------------+---------+-------------------+---------+------------+----------+--------+----------------+------------------+---------------+-----------------+-----------------+--------------------+-------------------+------------------+------------------+-------------------+-----------------+------------------+--------------------+--------------------+--------------------+-----------------+--------------------+-----------------+------------------+------------------+-----------------+-----------------+------------------+-----------------+------------------+\n",
            "|summary|           permalink|            name|        homepage_url|       category_list|  market | funding_total_usd |   status|country_code|state_code|  region|            city|    funding_rounds|founded_quarter|     founded_year|             seed|             venture|equity_crowdfunding|       undisclosed|  convertible_note|     debt_financing|            angel|             grant|      private_equity|     post_ipo_equity|       post_ipo_debt| secondary_market|product_crowdfunding|          round_A|           round_B|           round_C|          round_D|          round_E|           round_F|          round_G|           round_H|\n",
            "+-------+--------------------+----------------+--------------------+--------------------+---------+-------------------+---------+------------+----------+--------+----------------+------------------+---------------+-----------------+-----------------+--------------------+-------------------+------------------+------------------+-------------------+-----------------+------------------+--------------------+--------------------+--------------------+-----------------+--------------------+-----------------+------------------+------------------+-----------------+-----------------+------------------+-----------------+------------------+\n",
            "|  count|               49438|           49438|               45989|               45477|    45470|              49438|    48124|       44165|     30161|   44165|           43322|             49438|          38482|            38482|            49438|               49438|              49438|             49438|             49438|              49438|            49438|             49438|               49438|               49438|               49438|            49438|               49438|            49438|             49438|             49438|            49438|            49438|             49438|            49438|             49438|\n",
            "|   mean|                NULL|       4202405.8|                NULL|                NULL|      3.0|  329.3095238095238|     NULL|        NULL|      NULL|    NULL|            NULL|1.6962053481127877|           NULL|2007.359128943402|217321.4965815769|   7501050.536227194|  6163.322120635948|130221.28111978639|23364.098203810834| 1888156.8919859217|65418.97955014362|162845.27664954084|  2074285.7490998828|    608873.649540839|   443435.9739673935|38455.92236740969|   7074.227092519924|1243955.020874631|1492891.1540515393|1205355.8029046482|737526.0603179741|342468.2005137748|169769.18987418586|57670.66776568632|14231.967312593551|\n",
            "| stddev|                NULL|9390141.25508723|                NULL|                NULL|      0.0|  286.1580228709764|     NULL|        NULL|      NULL|    NULL|            NULL|1.2942126991245226|           NULL|7.579203055906424|1056984.819178762|2.8471124156056345E7|  199904.8153358651|2981403.6530988617| 1432045.734718906|1.382045661689242E8|658290.7891725017|  5612088.00059051|3.1672313291923504E7|2.6783480521270968E7|3.4281689530683145E7|3864460.620083234|  428216.58766527416|5531974.034815271| 7472704.453350115| 7993591.743316769|9815218.187251925|5406914.568211484| 6277905.452148064|5252311.930347181|2716865.2906727246|\n",
            "|    min|/organization/-qo...|        #waywire|http://004gmbh.de...|       |3D Printing||      3D |               -   | acquired|         ALB|        AB|A Coruna|'s-hertogenbosch|                 1|        1902-Q1|             1902|                0|                   0|                  0|                 0|                 0|                  0|                0|                 0|                   0|                   0|                   0|                0|                   0|                0|                 0|                 0|                0|                0|                 0|                0|                 0|\n",
            "|    max|/organization/zzz...|    �berResearch|   https://zilyo.com||mHealth|Mobile|H...| mHealth |         99,99,999 |operating|         ZWE|        WY|    �vry|            �vry|                18|        2014-Q4|             2014|        130000000|          2351000000|           25000000|         292432833|         300000000|        30079503000|         63590263|         750500000|          3500000000|          4700000000|          5800000000|        680611554|            72000000|        319000000|         542000000|         490000000|       1200000000|        400000000|        1060000000|       1000000000|         600000000|\n",
            "+-------+--------------------+----------------+--------------------+--------------------+---------+-------------------+---------+------------+----------+--------+----------------+------------------+---------------+-----------------+-----------------+--------------------+-------------------+------------------+------------------+-------------------+-----------------+------------------+--------------------+--------------------+--------------------+-----------------+--------------------+-----------------+------------------+------------------+-----------------+-----------------+------------------+-----------------+------------------+\n",
            "\n"
          ]
        }
      ]
    },
    {
      "cell_type": "markdown",
      "source": [
        "### **Create a temp table**"
      ],
      "metadata": {
        "id": "QMM-ebxQB1q4"
      }
    },
    {
      "cell_type": "code",
      "source": [
        "df.createOrReplaceTempView('investment')"
      ],
      "metadata": {
        "id": "bayGpeCFATtB"
      },
      "execution_count": null,
      "outputs": []
    },
    {
      "cell_type": "code",
      "source": [
        "spark.sql(\"select * from investment limit 10\").show()"
      ],
      "metadata": {
        "colab": {
          "base_uri": "https://localhost:8080/"
        },
        "id": "arjJDGzPB05Z",
        "outputId": "a84a3186-24a2-470b-a0b1-2f2b6971fa51"
      },
      "execution_count": null,
      "outputs": [
        {
          "output_type": "stream",
          "name": "stdout",
          "text": [
            "+--------------------+------------------+--------------------+--------------------+-------------+-------------------+---------+------------+----------+--------------------+------------+--------------+----------+-------------------+---------------+------------+----------------+---------------+-------+-------+-------------------+-----------+----------------+--------------+-----+-----+--------------+---------------+-------------+----------------+--------------------+-------+-------+-------+-------+-------+-------+-------+-------+\n",
            "|           permalink|              name|        homepage_url|       category_list|      market | funding_total_usd |   status|country_code|state_code|              region|        city|funding_rounds|founded_at|      founded_month|founded_quarter|founded_year|first_funding_at|last_funding_at|   seed|venture|equity_crowdfunding|undisclosed|convertible_note|debt_financing|angel|grant|private_equity|post_ipo_equity|post_ipo_debt|secondary_market|product_crowdfunding|round_A|round_B|round_C|round_D|round_E|round_F|round_G|round_H|\n",
            "+--------------------+------------------+--------------------+--------------------+-------------+-------------------+---------+------------+----------+--------------------+------------+--------------+----------+-------------------+---------------+------------+----------------+---------------+-------+-------+-------------------+-----------+----------------+--------------+-----+-----+--------------+---------------+-------------+----------------+--------------------+-------+-------+-------+-------+-------+-------+-------+-------+\n",
            "|/organization/way...|          #waywire|http://www.waywir...||Entertainment|Po...|        News |         17,50,000 | acquired|         USA|        NY|       New York City|    New York|             1|2012-06-01|2012-06-01 00:00:00|        2012-Q2|        2012|      2012-06-30|     2012-06-30|1750000|      0|                  0|          0|               0|             0|    0|    0|             0|              0|            0|               0|                   0|      0|      0|      0|      0|      0|      0|      0|      0|\n",
            "|/organization/tv-...|&TV Communications|http://enjoyandtv...|             |Games||       Games |         40,00,000 |operating|         USA|        CA|         Los Angeles| Los Angeles|             2|      NULL|               NULL|           NULL|        NULL|      2010-06-04|     2010-09-23|      0|4000000|                  0|          0|               0|             0|    0|    0|             0|              0|            0|               0|                   0|      0|      0|      0|      0|      0|      0|      0|      0|\n",
            "|/organization/roc...| 'Rock' Your Paper|http://www.rockyo...||Publishing|Educa...|  Publishing |            40,000 |operating|         EST|      NULL|             Tallinn|     Tallinn|             1|2012-10-26|2012-10-01 00:00:00|        2012-Q4|        2012|      2012-08-09|     2012-08-09|  40000|      0|                  0|          0|               0|             0|    0|    0|             0|              0|            0|               0|                   0|      0|      0|      0|      0|      0|      0|      0|      0|\n",
            "|/organization/in-...| (In)Touch Network|http://www.InTouc...||Electronics|Guid...| Electronics |         15,00,000 |operating|         GBR|      NULL|              London|      London|             1|2011-04-01|2011-04-01 00:00:00|        2011-Q2|        2011|      2011-04-01|     2011-04-01|1500000|      0|                  0|          0|               0|             0|    0|    0|             0|              0|            0|               0|                   0|      0|      0|      0|      0|      0|      0|      0|      0|\n",
            "|/organization/r-r...|-R- Ranch and Mine|                NULL||Tourism|Entertai...|     Tourism |            60,000 |operating|         USA|        TX|              Dallas|  Fort Worth|             2|2014-01-01|2014-01-01 00:00:00|        2014-Q1|        2014|      2014-08-17|     2014-09-26|      0|      0|              60000|          0|               0|             0|    0|    0|             0|              0|            0|               0|                   0|      0|      0|      0|      0|      0|      0|      0|      0|\n",
            "|/organization/clu...|     .Club Domains|    http://nic.club/|          |Software||    Software |         70,00,000 |     NULL|         USA|        FL|      Ft. Lauderdale|Oakland Park|             1|2011-10-10|2011-10-01 00:00:00|        2011-Q4|        2011|      2013-05-31|     2013-05-31|      0|7000000|                  0|          0|               0|             0|    0|    0|             0|              0|            0|               0|                   0|      0|7000000|      0|      0|      0|      0|      0|      0|\n",
            "|/organization/fox...|     .Fox Networks|http://www.dotfox...|       |Advertising|| Advertising |         49,12,393 |   closed|         ARG|      NULL|        Buenos Aires|Buenos Aires|             1|      NULL|               NULL|           NULL|        NULL|      2007-01-16|     2007-01-16|      0|      0|                  0|    4912393|               0|             0|    0|    0|             0|              0|            0|               0|                   0|      0|      0|      0|      0|      0|      0|      0|      0|\n",
            "|/organization/0-6...|           0-6.com|  http://www.0-6.com|       |Curated Web|| Curated Web |         20,00,000 |operating|        NULL|      NULL|                NULL|        NULL|             1|2007-01-01|2007-01-01 00:00:00|        2007-Q1|        2007|      2008-03-19|     2008-03-19|      0|2000000|                  0|          0|               0|             0|    0|    0|             0|              0|            0|               0|                   0|2000000|      0|      0|      0|      0|      0|      0|      0|\n",
            "|/organization/004...|  004 Technologies|http://004gmbh.de...|          |Software||    Software |               -   |operating|         USA|        IL|Springfield, Illi...|   Champaign|             1|2010-01-01|2010-01-01 00:00:00|        2010-Q1|        2010|      2014-07-24|     2014-07-24|      0|      0|                  0|          0|               0|             0|    0|    0|             0|              0|            0|               0|                   0|      0|      0|      0|      0|      0|      0|      0|      0|\n",
            "|/organization/01g...|01Games Technology|http://www.01game...|             |Games||       Games |            41,250 |operating|         HKG|      NULL|           Hong Kong|   Hong Kong|             1|      NULL|               NULL|           NULL|        NULL|      2014-07-01|     2014-07-01|  41250|      0|                  0|          0|               0|             0|    0|    0|             0|              0|            0|               0|                   0|      0|      0|      0|      0|      0|      0|      0|      0|\n",
            "+--------------------+------------------+--------------------+--------------------+-------------+-------------------+---------+------------+----------+--------------------+------------+--------------+----------+-------------------+---------------+------------+----------------+---------------+-------+-------+-------------------+-----------+----------------+--------------+-----+-----+--------------+---------------+-------------+----------------+--------------------+-------+-------+-------+-------+-------+-------+-------+-------+\n",
            "\n"
          ]
        }
      ]
    },
    {
      "cell_type": "markdown",
      "source": [
        "# **Country: USA**"
      ],
      "metadata": {
        "id": "bfPyMD_wIa-h"
      }
    },
    {
      "cell_type": "code",
      "source": [
        "spark.sql(\"select * from investment where country_code == 'USA'\").show()"
      ],
      "metadata": {
        "colab": {
          "base_uri": "https://localhost:8080/"
        },
        "id": "YRKSTopuCDlI",
        "outputId": "4dd824ee-7e71-4faa-e4a8-ec8b3c66ef54"
      },
      "execution_count": null,
      "outputs": [
        {
          "output_type": "stream",
          "name": "stdout",
          "text": [
            "+--------------------+------------------+--------------------+--------------------+--------------------+-------------------+---------+------------+----------+--------------------+-----------------+--------------+----------+-------------------+---------------+------------+----------------+---------------+-------+--------+-------------------+-----------+----------------+--------------+-----+-----+--------------+---------------+-------------+----------------+--------------------+-------+-------+-------+-------+-------+-------+-------+-------+\n",
            "|           permalink|              name|        homepage_url|       category_list|             market | funding_total_usd |   status|country_code|state_code|              region|             city|funding_rounds|founded_at|      founded_month|founded_quarter|founded_year|first_funding_at|last_funding_at|   seed| venture|equity_crowdfunding|undisclosed|convertible_note|debt_financing|angel|grant|private_equity|post_ipo_equity|post_ipo_debt|secondary_market|product_crowdfunding|round_A|round_B|round_C|round_D|round_E|round_F|round_G|round_H|\n",
            "+--------------------+------------------+--------------------+--------------------+--------------------+-------------------+---------+------------+----------+--------------------+-----------------+--------------+----------+-------------------+---------------+------------+----------------+---------------+-------+--------+-------------------+-----------+----------------+--------------+-----+-----+--------------+---------------+-------------+----------------+--------------------+-------+-------+-------+-------+-------+-------+-------+-------+\n",
            "|/organization/way...|          #waywire|http://www.waywir...||Entertainment|Po...|               News |         17,50,000 | acquired|         USA|        NY|       New York City|         New York|             1|2012-06-01|2012-06-01 00:00:00|        2012-Q2|        2012|      2012-06-30|     2012-06-30|1750000|       0|                  0|          0|               0|             0|    0|    0|             0|              0|            0|               0|                   0|      0|      0|      0|      0|      0|      0|      0|      0|\n",
            "|/organization/tv-...|&TV Communications|http://enjoyandtv...|             |Games||              Games |         40,00,000 |operating|         USA|        CA|         Los Angeles|      Los Angeles|             2|      NULL|               NULL|           NULL|        NULL|      2010-06-04|     2010-09-23|      0| 4000000|                  0|          0|               0|             0|    0|    0|             0|              0|            0|               0|                   0|      0|      0|      0|      0|      0|      0|      0|      0|\n",
            "|/organization/r-r...|-R- Ranch and Mine|                NULL||Tourism|Entertai...|            Tourism |            60,000 |operating|         USA|        TX|              Dallas|       Fort Worth|             2|2014-01-01|2014-01-01 00:00:00|        2014-Q1|        2014|      2014-08-17|     2014-09-26|      0|       0|              60000|          0|               0|             0|    0|    0|             0|              0|            0|               0|                   0|      0|      0|      0|      0|      0|      0|      0|      0|\n",
            "|/organization/clu...|     .Club Domains|    http://nic.club/|          |Software||           Software |         70,00,000 |     NULL|         USA|        FL|      Ft. Lauderdale|     Oakland Park|             1|2011-10-10|2011-10-01 00:00:00|        2011-Q4|        2011|      2013-05-31|     2013-05-31|      0| 7000000|                  0|          0|               0|             0|    0|    0|             0|              0|            0|               0|                   0|      0|7000000|      0|      0|      0|      0|      0|      0|\n",
            "|/organization/004...|  004 Technologies|http://004gmbh.de...|          |Software||           Software |               -   |operating|         USA|        IL|Springfield, Illi...|        Champaign|             1|2010-01-01|2010-01-01 00:00:00|        2010-Q1|        2010|      2014-07-24|     2014-07-24|      0|       0|                  0|          0|               0|             0|    0|    0|             0|              0|            0|               0|                   0|      0|      0|      0|      0|      0|      0|      0|      0|\n",
            "|/organization/1-4...|           1-4 All|                NULL||Entertainment|Ga...|           Software |               -   |operating|         USA|        NC|          NC - Other|Connellys Springs|             1|      NULL|               NULL|           NULL|        NULL|      2013-04-21|     2013-04-21|      0|       0|                  0|          0|               0|             0|    0|    0|             0|              0|            0|               0|                   0|      0|      0|      0|      0|      0|      0|      0|      0|\n",
            "|/organization/1-8...|     1-800-DENTIST|http://www.1800de...||Health and Welln...| Health and Welln...|               -   |operating|         USA|        CA|         Los Angeles|      Los Angeles|             1|1986-01-01|1986-01-01 00:00:00|        1986-Q1|        1986|      2010-08-19|     2010-08-19|      0|       0|                  0|          0|               0|             0|    0|    0|             0|              0|            0|               0|                   0|      0|      0|      0|      0|      0|      0|      0|      0|\n",
            "|/organization/1-8...|     1-800-DOCTORS|http://1800doctor...||Health and Welln...| Health and Welln...|         17,50,000 |operating|         USA|        NJ|              Newark|           Iselin|             1|1984-01-01|1984-01-01 00:00:00|        1984-Q1|        1984|      2011-03-02|     2011-03-02|      0|       0|                  0|          0|         1750000|             0|    0|    0|             0|              0|            0|               0|                   0|      0|      0|      0|      0|      0|      0|      0|      0|\n",
            "|/organization/1-6...|  1.618 Technology|                NULL|       |Real Estate||        Real Estate |               -   |operating|         USA|        FL|             Orlando|          Orlando|             1|2013-12-07|2013-12-01 00:00:00|        2013-Q4|        2013|      2014-01-22|     2014-01-22|      0|       0|                  0|          0|               0|             0|    0|    0|             0|              0|            0|               0|                   0|      0|      0|      0|      0|      0|      0|      0|      0|\n",
            "|/organization/10-...|       10-20 Media|http://www.10-20m...|        |E-Commerce||         E-Commerce |         20,50,000 |operating|         USA|        MD|           Baltimore|         Woodbine|             4|2001-01-01|2001-01-01 00:00:00|        2001-Q1|        2001|      2009-06-18|     2011-12-28|      0|       0|                  0|          0|               0|       2050000|    0|    0|             0|              0|            0|               0|                   0|      0|      0|      0|      0|      0|      0|      0|      0|\n",
            "|/organization/100...|        1000 Corks|http://1000corks.com|            |Search||             Search |            40,000 |operating|         USA|        OR|    Portland, Oregon|      Lake Oswego|             1|2008-01-01|2008-01-01 00:00:00|        2008-Q1|        2008|      2011-08-23|     2011-08-23|  40000|       0|                  0|          0|               0|             0|    0|    0|             0|              0|            0|               0|                   0|      0|      0|      0|      0|      0|      0|      0|      0|\n",
            "|/organization/100...|      1000memories|http://1000memori...|       |Curated Web||        Curated Web |         25,35,000 | acquired|         USA|        CA|         SF Bay Area|    San Francisco|             2|2010-07-01|2010-07-01 00:00:00|        2010-Q3|        2010|      2010-01-01|     2011-02-16|  15000| 2520000|                  0|          0|               0|             0|    0|    0|             0|              0|            0|               0|                   0|2520000|      0|      0|      0|      0|      0|      0|      0|\n",
            "|/organization/100...|   1000museums.com|http://www.1000mu...|       |Curated Web||        Curated Web |         49,62,651 |operating|         USA|        WA|             Seattle|         Bellevue|             6|2008-01-01|2008-01-01 00:00:00|        2008-Q1|        2008|      2009-10-14|     2014-09-19|      0| 3814772|                  0|          0|               0|       1147879|    0|    0|             0|              0|            0|               0|                   0|      0|      0|      0|      0|      0|      0|      0|      0|\n",
            "|/organization/100...|         100health|http://www.redoxe...||Health Care Info...| Health Care Info...|          4,20,000 |operating|         USA|        WI|             Madison|          Madison|             1|2014-07-04|2014-07-01 00:00:00|        2014-Q3|        2014|      2014-11-26|     2014-11-26| 420000|       0|                  0|          0|               0|             0|    0|    0|             0|              0|            0|               0|                   0|      0|      0|      0|      0|      0|      0|      0|      0|\n",
            "|/organization/100...|           100Plus|http://www.100plu...|         |Analytics||          Analytics |         12,50,000 | acquired|         USA|        CA|         SF Bay Area|    San Francisco|             2|2011-09-16|2011-09-01 00:00:00|        2011-Q3|        2011|      2011-11-02|     2011-11-30| 750000|  500000|                  0|          0|               0|             0|    0|    0|             0|              0|            0|               0|                   0|      0|      0|      0|      0|      0|      0|      0|      0|\n",
            "|/organization/101...|          1010data|http://www.1010da...|          |Software||           Software |       3,50,00,000 |operating|         USA|        NY|       New York City|         New York|             1|2000-01-01|2000-01-01 00:00:00|        2000-Q1|        2000|      2010-03-08|     2010-03-08|      0|35000000|                  0|          0|               0|             0|    0|    0|             0|              0|            0|               0|                   0|      0|      0|      0|      0|      0|      0|      0|      0|\n",
            "|/organization/10b...|      10BestThings|http://10bestthin...|       |Curated Web||        Curated Web |            50,000 |   closed|         USA|        OH|           Cleveland|        Cleveland|             1|2009-04-01|2009-04-01 00:00:00|        2009-Q2|        2009|      2009-04-01|     2009-04-01|  50000|       0|                  0|          0|               0|             0|    0|    0|             0|              0|            0|               0|                   0|      0|      0|      0|      0|      0|      0|      0|      0|\n",
            "| /organization/10six|             10Six|http://10sixenerg...||Electronics|Batt...|        Electronics |               -   |operating|         USA|        NY|       New York City|         New York|             1|      NULL|               NULL|           NULL|        NULL|      2014-02-01|     2014-02-01|      0|       0|                  0|          0|               0|             0|    0|    0|             0|              0|            0|               0|                   0|      0|      0|      0|      0|      0|      0|      0|      0|\n",
            "|/organization/10x...|  10X Technologies|http://10xtechnol...|     |Biotechnology||      Biotechnology |         30,00,000 |operating|         USA|        CA|         SF Bay Area|          Oakland|             1|2012-01-01|2012-01-01 00:00:00|        2012-Q1|        2012|      2012-11-07|     2012-11-07|      0|       0|                  0|          0|               0|       3000000|    0|    0|             0|              0|            0|               0|                   0|      0|      0|      0|      0|      0|      0|      0|      0|\n",
            "|/organization/10x...|        10X10 Room|http://10x10room.com|          |Software||           Software |            77,500 |operating|         USA|        MA|              Boston|        Lexington|             1|2010-01-01|2010-01-01 00:00:00|        2010-Q1|        2010|      2011-10-12|     2011-10-12|      0|       0|                  0|          0|               0|         77500|    0|    0|             0|              0|            0|               0|                   0|      0|      0|      0|      0|      0|      0|      0|      0|\n",
            "+--------------------+------------------+--------------------+--------------------+--------------------+-------------------+---------+------------+----------+--------------------+-----------------+--------------+----------+-------------------+---------------+------------+----------------+---------------+-------+--------+-------------------+-----------+----------------+--------------+-----+-----+--------------+---------------+-------------+----------------+--------------------+-------+-------+-------+-------+-------+-------+-------+-------+\n",
            "only showing top 20 rows\n",
            "\n"
          ]
        }
      ]
    },
    {
      "cell_type": "code",
      "source": [
        "usstartups = spark.sql(\"select * from investment where country_code == 'USA'\")"
      ],
      "metadata": {
        "id": "MzuNdqcrCHjJ"
      },
      "execution_count": null,
      "outputs": []
    },
    {
      "cell_type": "code",
      "source": [
        "usstartups.show()"
      ],
      "metadata": {
        "colab": {
          "base_uri": "https://localhost:8080/"
        },
        "id": "Z2U9PcugCNYI",
        "outputId": "6d1635ca-9dd0-4e0b-fb11-c09d49e9001d"
      },
      "execution_count": null,
      "outputs": [
        {
          "output_type": "stream",
          "name": "stdout",
          "text": [
            "+--------------------+------------------+--------------------+--------------------+--------------------+-------------------+---------+------------+----------+--------------------+-----------------+--------------+----------+-------------------+---------------+------------+----------------+---------------+-------+--------+-------------------+-----------+----------------+--------------+-----+-----+--------------+---------------+-------------+----------------+--------------------+-------+-------+-------+-------+-------+-------+-------+-------+\n",
            "|           permalink|              name|        homepage_url|       category_list|             market | funding_total_usd |   status|country_code|state_code|              region|             city|funding_rounds|founded_at|      founded_month|founded_quarter|founded_year|first_funding_at|last_funding_at|   seed| venture|equity_crowdfunding|undisclosed|convertible_note|debt_financing|angel|grant|private_equity|post_ipo_equity|post_ipo_debt|secondary_market|product_crowdfunding|round_A|round_B|round_C|round_D|round_E|round_F|round_G|round_H|\n",
            "+--------------------+------------------+--------------------+--------------------+--------------------+-------------------+---------+------------+----------+--------------------+-----------------+--------------+----------+-------------------+---------------+------------+----------------+---------------+-------+--------+-------------------+-----------+----------------+--------------+-----+-----+--------------+---------------+-------------+----------------+--------------------+-------+-------+-------+-------+-------+-------+-------+-------+\n",
            "|/organization/way...|          #waywire|http://www.waywir...||Entertainment|Po...|               News |         17,50,000 | acquired|         USA|        NY|       New York City|         New York|             1|2012-06-01|2012-06-01 00:00:00|        2012-Q2|        2012|      2012-06-30|     2012-06-30|1750000|       0|                  0|          0|               0|             0|    0|    0|             0|              0|            0|               0|                   0|      0|      0|      0|      0|      0|      0|      0|      0|\n",
            "|/organization/tv-...|&TV Communications|http://enjoyandtv...|             |Games||              Games |         40,00,000 |operating|         USA|        CA|         Los Angeles|      Los Angeles|             2|      NULL|               NULL|           NULL|        NULL|      2010-06-04|     2010-09-23|      0| 4000000|                  0|          0|               0|             0|    0|    0|             0|              0|            0|               0|                   0|      0|      0|      0|      0|      0|      0|      0|      0|\n",
            "|/organization/r-r...|-R- Ranch and Mine|                NULL||Tourism|Entertai...|            Tourism |            60,000 |operating|         USA|        TX|              Dallas|       Fort Worth|             2|2014-01-01|2014-01-01 00:00:00|        2014-Q1|        2014|      2014-08-17|     2014-09-26|      0|       0|              60000|          0|               0|             0|    0|    0|             0|              0|            0|               0|                   0|      0|      0|      0|      0|      0|      0|      0|      0|\n",
            "|/organization/clu...|     .Club Domains|    http://nic.club/|          |Software||           Software |         70,00,000 |     NULL|         USA|        FL|      Ft. Lauderdale|     Oakland Park|             1|2011-10-10|2011-10-01 00:00:00|        2011-Q4|        2011|      2013-05-31|     2013-05-31|      0| 7000000|                  0|          0|               0|             0|    0|    0|             0|              0|            0|               0|                   0|      0|7000000|      0|      0|      0|      0|      0|      0|\n",
            "|/organization/004...|  004 Technologies|http://004gmbh.de...|          |Software||           Software |               -   |operating|         USA|        IL|Springfield, Illi...|        Champaign|             1|2010-01-01|2010-01-01 00:00:00|        2010-Q1|        2010|      2014-07-24|     2014-07-24|      0|       0|                  0|          0|               0|             0|    0|    0|             0|              0|            0|               0|                   0|      0|      0|      0|      0|      0|      0|      0|      0|\n",
            "|/organization/1-4...|           1-4 All|                NULL||Entertainment|Ga...|           Software |               -   |operating|         USA|        NC|          NC - Other|Connellys Springs|             1|      NULL|               NULL|           NULL|        NULL|      2013-04-21|     2013-04-21|      0|       0|                  0|          0|               0|             0|    0|    0|             0|              0|            0|               0|                   0|      0|      0|      0|      0|      0|      0|      0|      0|\n",
            "|/organization/1-8...|     1-800-DENTIST|http://www.1800de...||Health and Welln...| Health and Welln...|               -   |operating|         USA|        CA|         Los Angeles|      Los Angeles|             1|1986-01-01|1986-01-01 00:00:00|        1986-Q1|        1986|      2010-08-19|     2010-08-19|      0|       0|                  0|          0|               0|             0|    0|    0|             0|              0|            0|               0|                   0|      0|      0|      0|      0|      0|      0|      0|      0|\n",
            "|/organization/1-8...|     1-800-DOCTORS|http://1800doctor...||Health and Welln...| Health and Welln...|         17,50,000 |operating|         USA|        NJ|              Newark|           Iselin|             1|1984-01-01|1984-01-01 00:00:00|        1984-Q1|        1984|      2011-03-02|     2011-03-02|      0|       0|                  0|          0|         1750000|             0|    0|    0|             0|              0|            0|               0|                   0|      0|      0|      0|      0|      0|      0|      0|      0|\n",
            "|/organization/1-6...|  1.618 Technology|                NULL|       |Real Estate||        Real Estate |               -   |operating|         USA|        FL|             Orlando|          Orlando|             1|2013-12-07|2013-12-01 00:00:00|        2013-Q4|        2013|      2014-01-22|     2014-01-22|      0|       0|                  0|          0|               0|             0|    0|    0|             0|              0|            0|               0|                   0|      0|      0|      0|      0|      0|      0|      0|      0|\n",
            "|/organization/10-...|       10-20 Media|http://www.10-20m...|        |E-Commerce||         E-Commerce |         20,50,000 |operating|         USA|        MD|           Baltimore|         Woodbine|             4|2001-01-01|2001-01-01 00:00:00|        2001-Q1|        2001|      2009-06-18|     2011-12-28|      0|       0|                  0|          0|               0|       2050000|    0|    0|             0|              0|            0|               0|                   0|      0|      0|      0|      0|      0|      0|      0|      0|\n",
            "|/organization/100...|        1000 Corks|http://1000corks.com|            |Search||             Search |            40,000 |operating|         USA|        OR|    Portland, Oregon|      Lake Oswego|             1|2008-01-01|2008-01-01 00:00:00|        2008-Q1|        2008|      2011-08-23|     2011-08-23|  40000|       0|                  0|          0|               0|             0|    0|    0|             0|              0|            0|               0|                   0|      0|      0|      0|      0|      0|      0|      0|      0|\n",
            "|/organization/100...|      1000memories|http://1000memori...|       |Curated Web||        Curated Web |         25,35,000 | acquired|         USA|        CA|         SF Bay Area|    San Francisco|             2|2010-07-01|2010-07-01 00:00:00|        2010-Q3|        2010|      2010-01-01|     2011-02-16|  15000| 2520000|                  0|          0|               0|             0|    0|    0|             0|              0|            0|               0|                   0|2520000|      0|      0|      0|      0|      0|      0|      0|\n",
            "|/organization/100...|   1000museums.com|http://www.1000mu...|       |Curated Web||        Curated Web |         49,62,651 |operating|         USA|        WA|             Seattle|         Bellevue|             6|2008-01-01|2008-01-01 00:00:00|        2008-Q1|        2008|      2009-10-14|     2014-09-19|      0| 3814772|                  0|          0|               0|       1147879|    0|    0|             0|              0|            0|               0|                   0|      0|      0|      0|      0|      0|      0|      0|      0|\n",
            "|/organization/100...|         100health|http://www.redoxe...||Health Care Info...| Health Care Info...|          4,20,000 |operating|         USA|        WI|             Madison|          Madison|             1|2014-07-04|2014-07-01 00:00:00|        2014-Q3|        2014|      2014-11-26|     2014-11-26| 420000|       0|                  0|          0|               0|             0|    0|    0|             0|              0|            0|               0|                   0|      0|      0|      0|      0|      0|      0|      0|      0|\n",
            "|/organization/100...|           100Plus|http://www.100plu...|         |Analytics||          Analytics |         12,50,000 | acquired|         USA|        CA|         SF Bay Area|    San Francisco|             2|2011-09-16|2011-09-01 00:00:00|        2011-Q3|        2011|      2011-11-02|     2011-11-30| 750000|  500000|                  0|          0|               0|             0|    0|    0|             0|              0|            0|               0|                   0|      0|      0|      0|      0|      0|      0|      0|      0|\n",
            "|/organization/101...|          1010data|http://www.1010da...|          |Software||           Software |       3,50,00,000 |operating|         USA|        NY|       New York City|         New York|             1|2000-01-01|2000-01-01 00:00:00|        2000-Q1|        2000|      2010-03-08|     2010-03-08|      0|35000000|                  0|          0|               0|             0|    0|    0|             0|              0|            0|               0|                   0|      0|      0|      0|      0|      0|      0|      0|      0|\n",
            "|/organization/10b...|      10BestThings|http://10bestthin...|       |Curated Web||        Curated Web |            50,000 |   closed|         USA|        OH|           Cleveland|        Cleveland|             1|2009-04-01|2009-04-01 00:00:00|        2009-Q2|        2009|      2009-04-01|     2009-04-01|  50000|       0|                  0|          0|               0|             0|    0|    0|             0|              0|            0|               0|                   0|      0|      0|      0|      0|      0|      0|      0|      0|\n",
            "| /organization/10six|             10Six|http://10sixenerg...||Electronics|Batt...|        Electronics |               -   |operating|         USA|        NY|       New York City|         New York|             1|      NULL|               NULL|           NULL|        NULL|      2014-02-01|     2014-02-01|      0|       0|                  0|          0|               0|             0|    0|    0|             0|              0|            0|               0|                   0|      0|      0|      0|      0|      0|      0|      0|      0|\n",
            "|/organization/10x...|  10X Technologies|http://10xtechnol...|     |Biotechnology||      Biotechnology |         30,00,000 |operating|         USA|        CA|         SF Bay Area|          Oakland|             1|2012-01-01|2012-01-01 00:00:00|        2012-Q1|        2012|      2012-11-07|     2012-11-07|      0|       0|                  0|          0|               0|       3000000|    0|    0|             0|              0|            0|               0|                   0|      0|      0|      0|      0|      0|      0|      0|      0|\n",
            "|/organization/10x...|        10X10 Room|http://10x10room.com|          |Software||           Software |            77,500 |operating|         USA|        MA|              Boston|        Lexington|             1|2010-01-01|2010-01-01 00:00:00|        2010-Q1|        2010|      2011-10-12|     2011-10-12|      0|       0|                  0|          0|               0|         77500|    0|    0|             0|              0|            0|               0|                   0|      0|      0|      0|      0|      0|      0|      0|      0|\n",
            "+--------------------+------------------+--------------------+--------------------+--------------------+-------------------+---------+------------+----------+--------------------+-----------------+--------------+----------+-------------------+---------------+------------+----------------+---------------+-------+--------+-------------------+-----------+----------------+--------------+-----+-----+--------------+---------------+-------------+----------------+--------------------+-------+-------+-------+-------+-------+-------+-------+-------+\n",
            "only showing top 20 rows\n",
            "\n"
          ]
        }
      ]
    },
    {
      "cell_type": "code",
      "source": [
        "usstartups.createOrReplaceTempView('usstartup_table')"
      ],
      "metadata": {
        "id": "hepKGB2kCRtg"
      },
      "execution_count": null,
      "outputs": []
    },
    {
      "cell_type": "code",
      "source": [
        "spark.sql(\"select * from usstartup_table limit 10\").show()"
      ],
      "metadata": {
        "colab": {
          "base_uri": "https://localhost:8080/"
        },
        "id": "crayP65qDZvS",
        "outputId": "3306841a-1143-4447-f311-5a1fc79ab4c0"
      },
      "execution_count": null,
      "outputs": [
        {
          "output_type": "stream",
          "name": "stdout",
          "text": [
            "+--------------------+------------------+--------------------+--------------------+--------------------+-------------------+---------+------------+----------+--------------------+-----------------+--------------+----------+-------------------+---------------+------------+----------------+---------------+-------+-------+-------------------+-----------+----------------+--------------+-----+-----+--------------+---------------+-------------+----------------+--------------------+-------+-------+-------+-------+-------+-------+-------+-------+\n",
            "|           permalink|              name|        homepage_url|       category_list|             market | funding_total_usd |   status|country_code|state_code|              region|             city|funding_rounds|founded_at|      founded_month|founded_quarter|founded_year|first_funding_at|last_funding_at|   seed|venture|equity_crowdfunding|undisclosed|convertible_note|debt_financing|angel|grant|private_equity|post_ipo_equity|post_ipo_debt|secondary_market|product_crowdfunding|round_A|round_B|round_C|round_D|round_E|round_F|round_G|round_H|\n",
            "+--------------------+------------------+--------------------+--------------------+--------------------+-------------------+---------+------------+----------+--------------------+-----------------+--------------+----------+-------------------+---------------+------------+----------------+---------------+-------+-------+-------------------+-----------+----------------+--------------+-----+-----+--------------+---------------+-------------+----------------+--------------------+-------+-------+-------+-------+-------+-------+-------+-------+\n",
            "|/organization/way...|          #waywire|http://www.waywir...||Entertainment|Po...|               News |         17,50,000 | acquired|         USA|        NY|       New York City|         New York|             1|2012-06-01|2012-06-01 00:00:00|        2012-Q2|        2012|      2012-06-30|     2012-06-30|1750000|      0|                  0|          0|               0|             0|    0|    0|             0|              0|            0|               0|                   0|      0|      0|      0|      0|      0|      0|      0|      0|\n",
            "|/organization/tv-...|&TV Communications|http://enjoyandtv...|             |Games||              Games |         40,00,000 |operating|         USA|        CA|         Los Angeles|      Los Angeles|             2|      NULL|               NULL|           NULL|        NULL|      2010-06-04|     2010-09-23|      0|4000000|                  0|          0|               0|             0|    0|    0|             0|              0|            0|               0|                   0|      0|      0|      0|      0|      0|      0|      0|      0|\n",
            "|/organization/r-r...|-R- Ranch and Mine|                NULL||Tourism|Entertai...|            Tourism |            60,000 |operating|         USA|        TX|              Dallas|       Fort Worth|             2|2014-01-01|2014-01-01 00:00:00|        2014-Q1|        2014|      2014-08-17|     2014-09-26|      0|      0|              60000|          0|               0|             0|    0|    0|             0|              0|            0|               0|                   0|      0|      0|      0|      0|      0|      0|      0|      0|\n",
            "|/organization/clu...|     .Club Domains|    http://nic.club/|          |Software||           Software |         70,00,000 |     NULL|         USA|        FL|      Ft. Lauderdale|     Oakland Park|             1|2011-10-10|2011-10-01 00:00:00|        2011-Q4|        2011|      2013-05-31|     2013-05-31|      0|7000000|                  0|          0|               0|             0|    0|    0|             0|              0|            0|               0|                   0|      0|7000000|      0|      0|      0|      0|      0|      0|\n",
            "|/organization/004...|  004 Technologies|http://004gmbh.de...|          |Software||           Software |               -   |operating|         USA|        IL|Springfield, Illi...|        Champaign|             1|2010-01-01|2010-01-01 00:00:00|        2010-Q1|        2010|      2014-07-24|     2014-07-24|      0|      0|                  0|          0|               0|             0|    0|    0|             0|              0|            0|               0|                   0|      0|      0|      0|      0|      0|      0|      0|      0|\n",
            "|/organization/1-4...|           1-4 All|                NULL||Entertainment|Ga...|           Software |               -   |operating|         USA|        NC|          NC - Other|Connellys Springs|             1|      NULL|               NULL|           NULL|        NULL|      2013-04-21|     2013-04-21|      0|      0|                  0|          0|               0|             0|    0|    0|             0|              0|            0|               0|                   0|      0|      0|      0|      0|      0|      0|      0|      0|\n",
            "|/organization/1-8...|     1-800-DENTIST|http://www.1800de...||Health and Welln...| Health and Welln...|               -   |operating|         USA|        CA|         Los Angeles|      Los Angeles|             1|1986-01-01|1986-01-01 00:00:00|        1986-Q1|        1986|      2010-08-19|     2010-08-19|      0|      0|                  0|          0|               0|             0|    0|    0|             0|              0|            0|               0|                   0|      0|      0|      0|      0|      0|      0|      0|      0|\n",
            "|/organization/1-8...|     1-800-DOCTORS|http://1800doctor...||Health and Welln...| Health and Welln...|         17,50,000 |operating|         USA|        NJ|              Newark|           Iselin|             1|1984-01-01|1984-01-01 00:00:00|        1984-Q1|        1984|      2011-03-02|     2011-03-02|      0|      0|                  0|          0|         1750000|             0|    0|    0|             0|              0|            0|               0|                   0|      0|      0|      0|      0|      0|      0|      0|      0|\n",
            "|/organization/1-6...|  1.618 Technology|                NULL|       |Real Estate||        Real Estate |               -   |operating|         USA|        FL|             Orlando|          Orlando|             1|2013-12-07|2013-12-01 00:00:00|        2013-Q4|        2013|      2014-01-22|     2014-01-22|      0|      0|                  0|          0|               0|             0|    0|    0|             0|              0|            0|               0|                   0|      0|      0|      0|      0|      0|      0|      0|      0|\n",
            "|/organization/10-...|       10-20 Media|http://www.10-20m...|        |E-Commerce||         E-Commerce |         20,50,000 |operating|         USA|        MD|           Baltimore|         Woodbine|             4|2001-01-01|2001-01-01 00:00:00|        2001-Q1|        2001|      2009-06-18|     2011-12-28|      0|      0|                  0|          0|               0|       2050000|    0|    0|             0|              0|            0|               0|                   0|      0|      0|      0|      0|      0|      0|      0|      0|\n",
            "+--------------------+------------------+--------------------+--------------------+--------------------+-------------------+---------+------------+----------+--------------------+-----------------+--------------+----------+-------------------+---------------+------------+----------------+---------------+-------+-------+-------------------+-----------+----------------+--------------+-----+-----+--------------+---------------+-------------+----------------+--------------------+-------+-------+-------+-------+-------+-------+-------+-------+\n",
            "\n"
          ]
        }
      ]
    },
    {
      "cell_type": "markdown",
      "source": [
        "\n",
        "\n",
        "---\n",
        "\n"
      ],
      "metadata": {
        "id": "QEFyFz5hGPZR"
      }
    },
    {
      "cell_type": "markdown",
      "source": [
        "### **Finding most Seeded startups in USA**"
      ],
      "metadata": {
        "id": "jnTjofHTDi_I"
      }
    },
    {
      "cell_type": "code",
      "source": [
        "most_seed = spark.sql(\"select * from usstartup_table order by seed desc\")"
      ],
      "metadata": {
        "id": "VpbzJNIFDe9Y"
      },
      "execution_count": null,
      "outputs": []
    },
    {
      "cell_type": "code",
      "source": [
        "most_seed.select('name','seed').show()"
      ],
      "metadata": {
        "colab": {
          "base_uri": "https://localhost:8080/"
        },
        "id": "2Ipu7Xk3Ds7x",
        "outputId": "8badd757-5330-487d-a8c3-7d3c6bd35223"
      },
      "execution_count": null,
      "outputs": [
        {
          "output_type": "stream",
          "name": "stdout",
          "text": [
            "+--------------------+---------+\n",
            "|                name|     seed|\n",
            "+--------------------+---------+\n",
            "|Space Exploration...|100000000|\n",
            "|Wikimedia Foundation| 64000000|\n",
            "|        PharmaNation| 25000000|\n",
            "|            HeyAnita| 22300000|\n",
            "|         RetailMeNot| 21000000|\n",
            "|        ChoiceStream| 15000000|\n",
            "|Silverback Enterp...| 11500000|\n",
            "|NorthStar Systems...| 11500000|\n",
            "|          NuScriptRx| 10479384|\n",
            "|    Pepex Biomedical| 10000000|\n",
            "|          Ice Energy| 10000000|\n",
            "|              Kensho| 10000000|\n",
            "|              Koding|  9250000|\n",
            "|   Raise Marketplace|  9000000|\n",
            "|          Apportable|  8700000|\n",
            "|  Riverside Research|  8700000|\n",
            "|          YouScience|  8500000|\n",
            "|             eBureau|  8000000|\n",
            "|       Urban Compass|  8000000|\n",
            "|              KidZui|  8000000|\n",
            "+--------------------+---------+\n",
            "only showing top 20 rows\n",
            "\n"
          ]
        }
      ]
    },
    {
      "cell_type": "code",
      "source": [
        "most_seed.head(1)"
      ],
      "metadata": {
        "colab": {
          "base_uri": "https://localhost:8080/"
        },
        "id": "706qcQYeDvw5",
        "outputId": "d72d9c28-24d8-415d-af96-056dee142c5e"
      },
      "execution_count": null,
      "outputs": [
        {
          "output_type": "execute_result",
          "data": {
            "text/plain": [
              "[Row(permalink='/organization/space-exploration-technologies', name='Space Exploration Technologies', homepage_url='http://www.spacex.com', category_list='|Public Transportation|',  market =' Public Transportation ',  funding_total_usd =' 24,54,60,000 ', status='operating', country_code='USA', state_code='CA', region='Los Angeles', city='Hawthorne', funding_rounds=6, founded_at=datetime.date(2002, 1, 1), founded_month=datetime.datetime(2002, 1, 1, 0, 0), founded_quarter='2002-Q1', founded_year=2002, first_funding_at=datetime.date(2006, 3, 1), last_funding_at=datetime.date(2012, 12, 21), seed=100000000, venture=145460000, equity_crowdfunding=0, undisclosed=0, convertible_note=0, debt_financing=0, angel=0, grant=0, private_equity=0, post_ipo_equity=0, post_ipo_debt=0, secondary_market=0, product_crowdfunding=0, round_A=20000000, round_B=30435000, round_C=50000000, round_D=0, round_E=0, round_F=0, round_G=0, round_H=0)]"
            ]
          },
          "metadata": {},
          "execution_count": 26
        }
      ]
    },
    {
      "cell_type": "code",
      "source": [
        "most_seed_startup = most_seed.head(1)[0].asDict()"
      ],
      "metadata": {
        "id": "RUWoCv41DzWR"
      },
      "execution_count": null,
      "outputs": []
    },
    {
      "cell_type": "code",
      "source": [
        "most_seed_startup"
      ],
      "metadata": {
        "colab": {
          "base_uri": "https://localhost:8080/"
        },
        "id": "4rX15yLmECZ4",
        "outputId": "3589d380-5a4c-49d8-a221-cf49737f6edc"
      },
      "execution_count": null,
      "outputs": [
        {
          "output_type": "execute_result",
          "data": {
            "text/plain": [
              "{'permalink': '/organization/space-exploration-technologies',\n",
              " 'name': 'Space Exploration Technologies',\n",
              " 'homepage_url': 'http://www.spacex.com',\n",
              " 'category_list': '|Public Transportation|',\n",
              " ' market ': ' Public Transportation ',\n",
              " ' funding_total_usd ': ' 24,54,60,000 ',\n",
              " 'status': 'operating',\n",
              " 'country_code': 'USA',\n",
              " 'state_code': 'CA',\n",
              " 'region': 'Los Angeles',\n",
              " 'city': 'Hawthorne',\n",
              " 'funding_rounds': 6,\n",
              " 'founded_at': datetime.date(2002, 1, 1),\n",
              " 'founded_month': datetime.datetime(2002, 1, 1, 0, 0),\n",
              " 'founded_quarter': '2002-Q1',\n",
              " 'founded_year': 2002,\n",
              " 'first_funding_at': datetime.date(2006, 3, 1),\n",
              " 'last_funding_at': datetime.date(2012, 12, 21),\n",
              " 'seed': 100000000,\n",
              " 'venture': 145460000,\n",
              " 'equity_crowdfunding': 0,\n",
              " 'undisclosed': 0,\n",
              " 'convertible_note': 0,\n",
              " 'debt_financing': 0,\n",
              " 'angel': 0,\n",
              " 'grant': 0,\n",
              " 'private_equity': 0,\n",
              " 'post_ipo_equity': 0,\n",
              " 'post_ipo_debt': 0,\n",
              " 'secondary_market': 0,\n",
              " 'product_crowdfunding': 0,\n",
              " 'round_A': 20000000,\n",
              " 'round_B': 30435000,\n",
              " 'round_C': 50000000,\n",
              " 'round_D': 0,\n",
              " 'round_E': 0,\n",
              " 'round_F': 0,\n",
              " 'round_G': 0,\n",
              " 'round_H': 0}"
            ]
          },
          "metadata": {},
          "execution_count": 28
        }
      ]
    },
    {
      "cell_type": "markdown",
      "source": [
        "\n",
        "\n",
        "---\n",
        "\n"
      ],
      "metadata": {
        "id": "mSEp1lD5GNwJ"
      }
    },
    {
      "cell_type": "markdown",
      "source": [
        "### **Only row objects can be converted to dictionary. By converting a row to dictionary indexing becomes easier**"
      ],
      "metadata": {
        "id": "1yLbbYFdEd-g"
      }
    },
    {
      "cell_type": "code",
      "source": [
        "most_seed_startup['venture']"
      ],
      "metadata": {
        "colab": {
          "base_uri": "https://localhost:8080/"
        },
        "id": "54Mf2sEKEF4w",
        "outputId": "21709899-29bd-4e8d-a5b5-737669e21f03"
      },
      "execution_count": null,
      "outputs": [
        {
          "output_type": "execute_result",
          "data": {
            "text/plain": [
              "145460000"
            ]
          },
          "metadata": {},
          "execution_count": 29
        }
      ]
    },
    {
      "cell_type": "code",
      "source": [
        "most_seed_startup['first_funding_at']"
      ],
      "metadata": {
        "colab": {
          "base_uri": "https://localhost:8080/"
        },
        "id": "5rr8WmxTE5fh",
        "outputId": "3f0ac96d-653f-4f96-a0a3-d04ffb6b538c"
      },
      "execution_count": null,
      "outputs": [
        {
          "output_type": "execute_result",
          "data": {
            "text/plain": [
              "datetime.date(2006, 3, 1)"
            ]
          },
          "metadata": {},
          "execution_count": 30
        }
      ]
    },
    {
      "cell_type": "markdown",
      "source": [
        "\n",
        "\n",
        "---\n",
        "\n"
      ],
      "metadata": {
        "id": "RWWPxWbQIgoJ"
      }
    },
    {
      "cell_type": "markdown",
      "source": [
        "# **Country: HKG**"
      ],
      "metadata": {
        "id": "1Qv3QmO1Ih_Y"
      }
    },
    {
      "cell_type": "code",
      "source": [
        "spark.sql(\"select * from investment where country_code == 'HKG'\").show()"
      ],
      "metadata": {
        "colab": {
          "base_uri": "https://localhost:8080/"
        },
        "id": "DNySEvBBIhTY",
        "outputId": "5bee745d-1bff-421f-ec9f-f8233a6e45ec"
      },
      "execution_count": null,
      "outputs": [
        {
          "output_type": "stream",
          "name": "stdout",
          "text": [
            "+--------------------+--------------------+--------------------+--------------------+--------------------+-------------------+---------+------------+----------+---------+------------+--------------+----------+-------------------+---------------+------------+----------------+---------------+-------+--------+-------------------+-----------+----------------+--------------+------+-----+--------------+---------------+-------------+----------------+--------------------+--------+-------+-------+-------+-------+-------+-------+-------+\n",
            "|           permalink|                name|        homepage_url|       category_list|             market | funding_total_usd |   status|country_code|state_code|   region|        city|funding_rounds|founded_at|      founded_month|founded_quarter|founded_year|first_funding_at|last_funding_at|   seed| venture|equity_crowdfunding|undisclosed|convertible_note|debt_financing| angel|grant|private_equity|post_ipo_equity|post_ipo_debt|secondary_market|product_crowdfunding| round_A|round_B|round_C|round_D|round_E|round_F|round_G|round_H|\n",
            "+--------------------+--------------------+--------------------+--------------------+--------------------+-------------------+---------+------------+----------+---------+------------+--------------+----------+-------------------+---------------+------------+----------------+---------------+-------+--------+-------------------+-----------+----------------+--------------+------+-----+--------------+---------------+-------------+----------------+--------------------+--------+-------+-------+-------+-------+-------+-------+-------+\n",
            "|/organization/01g...|  01Games Technology|http://www.01game...|             |Games||              Games |            41,250 |operating|         HKG|      NULL|Hong Kong|   Hong Kong|             1|      NULL|               NULL|           NULL|        NULL|      2014-07-01|     2014-07-01|  41250|       0|                  0|          0|               0|             0|     0|    0|             0|              0|            0|               0|                   0|       0|      0|      0|      0|      0|      0|      0|      0|\n",
            "|/organization/six...|              6Waves|http://www.6waves...|             |Games||              Games |       5,25,88,928 |operating|         HKG|      NULL|Hong Kong|Causeway Bay|             2|2008-06-01|2008-06-01 00:00:00|        2008-Q2|        2008|      2010-01-21|     2011-08-04|      0|52588928|                  0|          0|               0|             0|     0|    0|             0|              0|            0|               0|                   0|       0|      0|      0|      0|      0|      0|      0|      0|\n",
            "|/organization/8-s...|        8 Securities|http://www.8secur...||Portals|Wealth M...|   Personal Finance |       1,85,00,000 |operating|         HKG|      NULL|Hong Kong|   Hong Kong|             3|2012-05-21|2012-05-01 00:00:00|        2012-Q2|        2012|      2012-01-04|     2014-08-02|      0|18500000|                  0|          0|               0|             0|     0|    0|             0|              0|            0|               0|                   0| 9500000|9000000|      0|      0|      0|      0|      0|      0|\n",
            "|  /organization/9gag|                9GAG|     http://9gag.com|      |Social Media||       Social Media |         28,00,000 |operating|         HKG|      NULL|Hong Kong|   Hong Kong|             2|2008-01-01|2008-01-01 00:00:00|        2008-Q1|        2008|      2011-05-17|     2012-07-30|2800000|       0|                  0|          0|               0|             0|     0|    0|             0|              0|            0|               0|                   0|       0|      0|      0|      0|      0|      0|      0|      0|\n",
            "|/organization/aba...|      Abacuz Limited|http://abacuz.com.hk|                NULL|                NULL|            41,250 |operating|         HKG|      NULL|Hong Kong|   Hong Kong|             1|      NULL|               NULL|           NULL|        NULL|      2014-01-01|     2014-01-01|  41250|       0|                  0|          0|               0|             0|     0|    0|             0|              0|            0|               0|                   0|       0|      0|      0|      0|      0|      0|      0|      0|\n",
            "|/organization/adv...|Advanced Merchant...|http://www.advanc...|                NULL|                NULL|         50,00,000 |operating|         HKG|      NULL|Hong Kong|   Hong Kong|             1|      NULL|               NULL|           NULL|        NULL|      2014-11-19|     2014-11-19|      0| 5000000|                  0|          0|               0|             0|     0|    0|             0|              0|            0|               0|                   0| 5000000|      0|      0|      0|      0|      0|      0|      0|\n",
            "|/organization/aft...|           AfterShip|http://www.afters...||Enterprise Softw...| Enterprise Softw...|         10,00,000 |operating|         HKG|      NULL|Hong Kong|   Hong Kong|             2|2011-12-01|2011-12-01 00:00:00|        2011-Q4|        2011|      2012-06-21|     2014-05-20|      0| 1000000|                  0|          0|               0|             0|     0|    0|             0|              0|            0|               0|                   0| 1000000|      0|      0|      0|      0|      0|      0|      0|\n",
            "|/organization/agi...|         AgileSource|http://www.agiles...||Open Source|Tabl...|            Tablets |            75,000 |operating|         HKG|      NULL|Hong Kong|   Hong Kong|             1|2010-04-01|2010-04-01 00:00:00|        2010-Q2|        2010|      2010-04-01|     2010-04-01|      0|       0|                  0|          0|               0|             0| 75000|    0|             0|              0|            0|               0|                   0|       0|      0|      0|      0|      0|      0|      0|      0|\n",
            "|/organization/chi...|Alibaba Pictures ...|http://chinavisio...|                NULL|                NULL|      80,40,00,000 |operating|         HKG|      NULL|Hong Kong|   Admiralty|             1|      NULL|               NULL|           NULL|        NULL|      2014-03-01|     2014-03-01|      0|       0|                  0|          0|               0|             0|     0|    0|             0|      804000000|            0|               0|                   0|       0|      0|      0|      0|      0|      0|      0|      0|\n",
            "|/organization/ali...|   alife studios inc|http://www.alife-...|             |Games||              Games |               -   |operating|         HKG|      NULL|Hong Kong|   Hong Kong|             1|2011-10-01|2011-10-01 00:00:00|        2011-Q4|        2011|      2011-10-01|     2011-10-01|      0|       0|                  0|          0|               0|             0|     0|    0|             0|              0|            0|               0|                   0|       0|      0|      0|      0|      0|      0|      0|      0|\n",
            "|/organization/ali...|            alive.cn|     http://alive.cn||Analytics|Celebr...|        Advertising |         10,50,000 |operating|         HKG|      NULL|Hong Kong|   Hong Kong|             2|2011-08-03|2011-08-01 00:00:00|        2011-Q3|        2011|      2011-09-01|     2013-01-11|      0| 1050000|                  0|          0|               0|             0|     0|    0|             0|              0|            0|               0|                   0|  500000|      0|      0|      0|      0|      0|      0|      0|\n",
            "|/organization/all...|Allied Pacific Sp...|      http://apsn.tv||Video Streaming|...|             Sports |         70,00,000 |   closed|         HKG|      NULL|Hong Kong|   Hong Kong|             1|2009-01-01|2009-01-01 00:00:00|        2009-Q1|        2009|      2010-01-01|     2010-01-01|      0| 7000000|                  0|          0|               0|             0|     0|    0|             0|              0|            0|               0|                   0| 7000000|      0|      0|      0|      0|      0|      0|      0|\n",
            "|/organization/alt...|  Altai Technologies|http://www.altait...|       |Web Hosting||        Web Hosting |       1,00,00,000 |operating|         HKG|      NULL|Hong Kong|   Hong Kong|             1|      NULL|               NULL|           NULL|        NULL|      2006-09-14|     2006-09-14|      0|10000000|                  0|          0|               0|             0|     0|    0|             0|              0|            0|               0|                   0|       0|      0|      0|      0|      0|      0|      0|      0|\n",
            "|/organization/ame...| American Life Media|http://www.styleu...|       |Curated Web||        Curated Web |               -   |   closed|         HKG|      NULL|Hong Kong|Kowloon City|             1|2006-06-01|2006-06-01 00:00:00|        2006-Q2|        2006|      2013-03-01|     2013-03-01|      0|       0|                  0|          0|               0|             0|     0|    0|             0|              0|            0|               0|                   0|       0|      0|      0|      0|      0|      0|      0|      0|\n",
            "|  /organization/anxa|                Anxa| http://www.anxa.com||Teachers|Nutriti...|         Psychology |          4,95,650 |operating|         HKG|      NULL|Hong Kong|   Hong Kong|             1|2002-07-01|2002-07-01 00:00:00|        2002-Q3|        2002|      2002-07-01|     2002-07-01| 495650|       0|                  0|          0|               0|             0|     0|    0|             0|              0|            0|               0|                   0|       0|      0|      0|      0|      0|      0|      0|      0|\n",
            "|/organization/app...|  Appeon Corporation|http://www.appeon...||Enterprise Softw...| Enterprise Softw...|       2,00,00,000 |operating|         HKG|      NULL|Hong Kong|   Hong Kong|             1|2000-01-01|2000-01-01 00:00:00|        2000-Q1|        2000|      2007-03-01|     2007-03-01|      0|20000000|                  0|          0|               0|             0|     0|    0|             0|              0|            0|               0|                   0|20000000|      0|      0|      0|      0|      0|      0|      0|\n",
            "|/organization/app...|          Appy Hotel|http://AppyHotel.com||Resorts|Hotels|H...|               Apps |          5,00,000 |operating|         HKG|      NULL|Hong Kong|   Hong Kong|             1|2013-01-01|2013-01-01 00:00:00|        2013-Q1|        2013|      2013-10-31|     2013-10-31| 500000|       0|                  0|          0|               0|             0|     0|    0|             0|              0|            0|               0|                   0|       0|      0|      0|      0|      0|      0|      0|      0|\n",
            "|/organization/apt...|             apta.me|      http://apta.me||Business Service...|  Business Services |            40,000 |   closed|         HKG|      NULL|Hong Kong|   Hong Kong|             1|2011-05-01|2011-05-01 00:00:00|        2011-Q2|        2011|      2011-08-08|     2011-08-08|  40000|       0|                  0|          0|               0|             0|     0|    0|             0|              0|            0|               0|                   0|       0|      0|      0|      0|      0|      0|      0|      0|\n",
            "|/organization/avi...|           Aviasales|http://www.aviasa...||Hotels|Travel|Cu...|        Curated Web |       1,00,00,000 |operating|         HKG|      NULL|Hong Kong|   Hong Kong|             1|2009-11-30|2009-11-01 00:00:00|        2009-Q4|        2009|      2014-02-11|     2014-02-11|      0|10000000|                  0|          0|               0|             0|     0|    0|             0|              0|            0|               0|                   0|       0|      0|      0|      0|      0|      0|      0|      0|\n",
            "|/organization/bio...|            Bioserie|http://www.bioser...|              |Toys||               Toys |          3,60,000 |operating|         HKG|      NULL|Hong Kong|   Hong Kong|             4|2009-11-01|2009-11-01 00:00:00|        2009-Q4|        2009|      2009-12-01|     2012-07-01| 100000|       0|                  0|          0|               0|             0|260000|    0|             0|              0|            0|               0|                   0|       0|      0|      0|      0|      0|      0|      0|      0|\n",
            "+--------------------+--------------------+--------------------+--------------------+--------------------+-------------------+---------+------------+----------+---------+------------+--------------+----------+-------------------+---------------+------------+----------------+---------------+-------+--------+-------------------+-----------+----------------+--------------+------+-----+--------------+---------------+-------------+----------------+--------------------+--------+-------+-------+-------+-------+-------+-------+-------+\n",
            "only showing top 20 rows\n",
            "\n"
          ]
        }
      ]
    },
    {
      "cell_type": "code",
      "source": [
        "hkgstartups = spark.sql(\"select * from investment where country_code == 'HKG'\")"
      ],
      "metadata": {
        "id": "zw7-HLi5Itth"
      },
      "execution_count": null,
      "outputs": []
    },
    {
      "cell_type": "code",
      "source": [
        "hkgstartups.show()"
      ],
      "metadata": {
        "colab": {
          "base_uri": "https://localhost:8080/"
        },
        "id": "f4UBXT94JciB",
        "outputId": "1af64eb6-c2eb-486e-d52f-84aac4feb0ac"
      },
      "execution_count": null,
      "outputs": [
        {
          "output_type": "stream",
          "name": "stdout",
          "text": [
            "+--------------------+--------------------+--------------------+--------------------+--------------------+-------------------+---------+------------+----------+---------+------------+--------------+----------+-------------------+---------------+------------+----------------+---------------+-------+--------+-------------------+-----------+----------------+--------------+------+-----+--------------+---------------+-------------+----------------+--------------------+--------+-------+-------+-------+-------+-------+-------+-------+\n",
            "|           permalink|                name|        homepage_url|       category_list|             market | funding_total_usd |   status|country_code|state_code|   region|        city|funding_rounds|founded_at|      founded_month|founded_quarter|founded_year|first_funding_at|last_funding_at|   seed| venture|equity_crowdfunding|undisclosed|convertible_note|debt_financing| angel|grant|private_equity|post_ipo_equity|post_ipo_debt|secondary_market|product_crowdfunding| round_A|round_B|round_C|round_D|round_E|round_F|round_G|round_H|\n",
            "+--------------------+--------------------+--------------------+--------------------+--------------------+-------------------+---------+------------+----------+---------+------------+--------------+----------+-------------------+---------------+------------+----------------+---------------+-------+--------+-------------------+-----------+----------------+--------------+------+-----+--------------+---------------+-------------+----------------+--------------------+--------+-------+-------+-------+-------+-------+-------+-------+\n",
            "|/organization/01g...|  01Games Technology|http://www.01game...|             |Games||              Games |            41,250 |operating|         HKG|      NULL|Hong Kong|   Hong Kong|             1|      NULL|               NULL|           NULL|        NULL|      2014-07-01|     2014-07-01|  41250|       0|                  0|          0|               0|             0|     0|    0|             0|              0|            0|               0|                   0|       0|      0|      0|      0|      0|      0|      0|      0|\n",
            "|/organization/six...|              6Waves|http://www.6waves...|             |Games||              Games |       5,25,88,928 |operating|         HKG|      NULL|Hong Kong|Causeway Bay|             2|2008-06-01|2008-06-01 00:00:00|        2008-Q2|        2008|      2010-01-21|     2011-08-04|      0|52588928|                  0|          0|               0|             0|     0|    0|             0|              0|            0|               0|                   0|       0|      0|      0|      0|      0|      0|      0|      0|\n",
            "|/organization/8-s...|        8 Securities|http://www.8secur...||Portals|Wealth M...|   Personal Finance |       1,85,00,000 |operating|         HKG|      NULL|Hong Kong|   Hong Kong|             3|2012-05-21|2012-05-01 00:00:00|        2012-Q2|        2012|      2012-01-04|     2014-08-02|      0|18500000|                  0|          0|               0|             0|     0|    0|             0|              0|            0|               0|                   0| 9500000|9000000|      0|      0|      0|      0|      0|      0|\n",
            "|  /organization/9gag|                9GAG|     http://9gag.com|      |Social Media||       Social Media |         28,00,000 |operating|         HKG|      NULL|Hong Kong|   Hong Kong|             2|2008-01-01|2008-01-01 00:00:00|        2008-Q1|        2008|      2011-05-17|     2012-07-30|2800000|       0|                  0|          0|               0|             0|     0|    0|             0|              0|            0|               0|                   0|       0|      0|      0|      0|      0|      0|      0|      0|\n",
            "|/organization/aba...|      Abacuz Limited|http://abacuz.com.hk|                NULL|                NULL|            41,250 |operating|         HKG|      NULL|Hong Kong|   Hong Kong|             1|      NULL|               NULL|           NULL|        NULL|      2014-01-01|     2014-01-01|  41250|       0|                  0|          0|               0|             0|     0|    0|             0|              0|            0|               0|                   0|       0|      0|      0|      0|      0|      0|      0|      0|\n",
            "|/organization/adv...|Advanced Merchant...|http://www.advanc...|                NULL|                NULL|         50,00,000 |operating|         HKG|      NULL|Hong Kong|   Hong Kong|             1|      NULL|               NULL|           NULL|        NULL|      2014-11-19|     2014-11-19|      0| 5000000|                  0|          0|               0|             0|     0|    0|             0|              0|            0|               0|                   0| 5000000|      0|      0|      0|      0|      0|      0|      0|\n",
            "|/organization/aft...|           AfterShip|http://www.afters...||Enterprise Softw...| Enterprise Softw...|         10,00,000 |operating|         HKG|      NULL|Hong Kong|   Hong Kong|             2|2011-12-01|2011-12-01 00:00:00|        2011-Q4|        2011|      2012-06-21|     2014-05-20|      0| 1000000|                  0|          0|               0|             0|     0|    0|             0|              0|            0|               0|                   0| 1000000|      0|      0|      0|      0|      0|      0|      0|\n",
            "|/organization/agi...|         AgileSource|http://www.agiles...||Open Source|Tabl...|            Tablets |            75,000 |operating|         HKG|      NULL|Hong Kong|   Hong Kong|             1|2010-04-01|2010-04-01 00:00:00|        2010-Q2|        2010|      2010-04-01|     2010-04-01|      0|       0|                  0|          0|               0|             0| 75000|    0|             0|              0|            0|               0|                   0|       0|      0|      0|      0|      0|      0|      0|      0|\n",
            "|/organization/chi...|Alibaba Pictures ...|http://chinavisio...|                NULL|                NULL|      80,40,00,000 |operating|         HKG|      NULL|Hong Kong|   Admiralty|             1|      NULL|               NULL|           NULL|        NULL|      2014-03-01|     2014-03-01|      0|       0|                  0|          0|               0|             0|     0|    0|             0|      804000000|            0|               0|                   0|       0|      0|      0|      0|      0|      0|      0|      0|\n",
            "|/organization/ali...|   alife studios inc|http://www.alife-...|             |Games||              Games |               -   |operating|         HKG|      NULL|Hong Kong|   Hong Kong|             1|2011-10-01|2011-10-01 00:00:00|        2011-Q4|        2011|      2011-10-01|     2011-10-01|      0|       0|                  0|          0|               0|             0|     0|    0|             0|              0|            0|               0|                   0|       0|      0|      0|      0|      0|      0|      0|      0|\n",
            "|/organization/ali...|            alive.cn|     http://alive.cn||Analytics|Celebr...|        Advertising |         10,50,000 |operating|         HKG|      NULL|Hong Kong|   Hong Kong|             2|2011-08-03|2011-08-01 00:00:00|        2011-Q3|        2011|      2011-09-01|     2013-01-11|      0| 1050000|                  0|          0|               0|             0|     0|    0|             0|              0|            0|               0|                   0|  500000|      0|      0|      0|      0|      0|      0|      0|\n",
            "|/organization/all...|Allied Pacific Sp...|      http://apsn.tv||Video Streaming|...|             Sports |         70,00,000 |   closed|         HKG|      NULL|Hong Kong|   Hong Kong|             1|2009-01-01|2009-01-01 00:00:00|        2009-Q1|        2009|      2010-01-01|     2010-01-01|      0| 7000000|                  0|          0|               0|             0|     0|    0|             0|              0|            0|               0|                   0| 7000000|      0|      0|      0|      0|      0|      0|      0|\n",
            "|/organization/alt...|  Altai Technologies|http://www.altait...|       |Web Hosting||        Web Hosting |       1,00,00,000 |operating|         HKG|      NULL|Hong Kong|   Hong Kong|             1|      NULL|               NULL|           NULL|        NULL|      2006-09-14|     2006-09-14|      0|10000000|                  0|          0|               0|             0|     0|    0|             0|              0|            0|               0|                   0|       0|      0|      0|      0|      0|      0|      0|      0|\n",
            "|/organization/ame...| American Life Media|http://www.styleu...|       |Curated Web||        Curated Web |               -   |   closed|         HKG|      NULL|Hong Kong|Kowloon City|             1|2006-06-01|2006-06-01 00:00:00|        2006-Q2|        2006|      2013-03-01|     2013-03-01|      0|       0|                  0|          0|               0|             0|     0|    0|             0|              0|            0|               0|                   0|       0|      0|      0|      0|      0|      0|      0|      0|\n",
            "|  /organization/anxa|                Anxa| http://www.anxa.com||Teachers|Nutriti...|         Psychology |          4,95,650 |operating|         HKG|      NULL|Hong Kong|   Hong Kong|             1|2002-07-01|2002-07-01 00:00:00|        2002-Q3|        2002|      2002-07-01|     2002-07-01| 495650|       0|                  0|          0|               0|             0|     0|    0|             0|              0|            0|               0|                   0|       0|      0|      0|      0|      0|      0|      0|      0|\n",
            "|/organization/app...|  Appeon Corporation|http://www.appeon...||Enterprise Softw...| Enterprise Softw...|       2,00,00,000 |operating|         HKG|      NULL|Hong Kong|   Hong Kong|             1|2000-01-01|2000-01-01 00:00:00|        2000-Q1|        2000|      2007-03-01|     2007-03-01|      0|20000000|                  0|          0|               0|             0|     0|    0|             0|              0|            0|               0|                   0|20000000|      0|      0|      0|      0|      0|      0|      0|\n",
            "|/organization/app...|          Appy Hotel|http://AppyHotel.com||Resorts|Hotels|H...|               Apps |          5,00,000 |operating|         HKG|      NULL|Hong Kong|   Hong Kong|             1|2013-01-01|2013-01-01 00:00:00|        2013-Q1|        2013|      2013-10-31|     2013-10-31| 500000|       0|                  0|          0|               0|             0|     0|    0|             0|              0|            0|               0|                   0|       0|      0|      0|      0|      0|      0|      0|      0|\n",
            "|/organization/apt...|             apta.me|      http://apta.me||Business Service...|  Business Services |            40,000 |   closed|         HKG|      NULL|Hong Kong|   Hong Kong|             1|2011-05-01|2011-05-01 00:00:00|        2011-Q2|        2011|      2011-08-08|     2011-08-08|  40000|       0|                  0|          0|               0|             0|     0|    0|             0|              0|            0|               0|                   0|       0|      0|      0|      0|      0|      0|      0|      0|\n",
            "|/organization/avi...|           Aviasales|http://www.aviasa...||Hotels|Travel|Cu...|        Curated Web |       1,00,00,000 |operating|         HKG|      NULL|Hong Kong|   Hong Kong|             1|2009-11-30|2009-11-01 00:00:00|        2009-Q4|        2009|      2014-02-11|     2014-02-11|      0|10000000|                  0|          0|               0|             0|     0|    0|             0|              0|            0|               0|                   0|       0|      0|      0|      0|      0|      0|      0|      0|\n",
            "|/organization/bio...|            Bioserie|http://www.bioser...|              |Toys||               Toys |          3,60,000 |operating|         HKG|      NULL|Hong Kong|   Hong Kong|             4|2009-11-01|2009-11-01 00:00:00|        2009-Q4|        2009|      2009-12-01|     2012-07-01| 100000|       0|                  0|          0|               0|             0|260000|    0|             0|              0|            0|               0|                   0|       0|      0|      0|      0|      0|      0|      0|      0|\n",
            "+--------------------+--------------------+--------------------+--------------------+--------------------+-------------------+---------+------------+----------+---------+------------+--------------+----------+-------------------+---------------+------------+----------------+---------------+-------+--------+-------------------+-----------+----------------+--------------+------+-----+--------------+---------------+-------------+----------------+--------------------+--------+-------+-------+-------+-------+-------+-------+-------+\n",
            "only showing top 20 rows\n",
            "\n"
          ]
        }
      ]
    },
    {
      "cell_type": "code",
      "source": [
        "hkgstartups.createOrReplaceTempView('hkgstartup_table')"
      ],
      "metadata": {
        "id": "2N_K3CDlJl2p"
      },
      "execution_count": null,
      "outputs": []
    },
    {
      "cell_type": "code",
      "source": [
        "spark.sql(\"select * from hkgstartup_table limit 10\").show()"
      ],
      "metadata": {
        "colab": {
          "base_uri": "https://localhost:8080/"
        },
        "id": "QqtP1X53J0Pi",
        "outputId": "1bc38d11-ad18-4eb3-a0a5-2019325e2616"
      },
      "execution_count": null,
      "outputs": [
        {
          "output_type": "stream",
          "name": "stdout",
          "text": [
            "+--------------------+--------------------+--------------------+--------------------+--------------------+-------------------+---------+------------+----------+---------+------------+--------------+----------+-------------------+---------------+------------+----------------+---------------+-------+--------+-------------------+-----------+----------------+--------------+-----+-----+--------------+---------------+-------------+----------------+--------------------+-------+-------+-------+-------+-------+-------+-------+-------+\n",
            "|           permalink|                name|        homepage_url|       category_list|             market | funding_total_usd |   status|country_code|state_code|   region|        city|funding_rounds|founded_at|      founded_month|founded_quarter|founded_year|first_funding_at|last_funding_at|   seed| venture|equity_crowdfunding|undisclosed|convertible_note|debt_financing|angel|grant|private_equity|post_ipo_equity|post_ipo_debt|secondary_market|product_crowdfunding|round_A|round_B|round_C|round_D|round_E|round_F|round_G|round_H|\n",
            "+--------------------+--------------------+--------------------+--------------------+--------------------+-------------------+---------+------------+----------+---------+------------+--------------+----------+-------------------+---------------+------------+----------------+---------------+-------+--------+-------------------+-----------+----------------+--------------+-----+-----+--------------+---------------+-------------+----------------+--------------------+-------+-------+-------+-------+-------+-------+-------+-------+\n",
            "|/organization/01g...|  01Games Technology|http://www.01game...|             |Games||              Games |            41,250 |operating|         HKG|      NULL|Hong Kong|   Hong Kong|             1|      NULL|               NULL|           NULL|        NULL|      2014-07-01|     2014-07-01|  41250|       0|                  0|          0|               0|             0|    0|    0|             0|              0|            0|               0|                   0|      0|      0|      0|      0|      0|      0|      0|      0|\n",
            "|/organization/six...|              6Waves|http://www.6waves...|             |Games||              Games |       5,25,88,928 |operating|         HKG|      NULL|Hong Kong|Causeway Bay|             2|2008-06-01|2008-06-01 00:00:00|        2008-Q2|        2008|      2010-01-21|     2011-08-04|      0|52588928|                  0|          0|               0|             0|    0|    0|             0|              0|            0|               0|                   0|      0|      0|      0|      0|      0|      0|      0|      0|\n",
            "|/organization/8-s...|        8 Securities|http://www.8secur...||Portals|Wealth M...|   Personal Finance |       1,85,00,000 |operating|         HKG|      NULL|Hong Kong|   Hong Kong|             3|2012-05-21|2012-05-01 00:00:00|        2012-Q2|        2012|      2012-01-04|     2014-08-02|      0|18500000|                  0|          0|               0|             0|    0|    0|             0|              0|            0|               0|                   0|9500000|9000000|      0|      0|      0|      0|      0|      0|\n",
            "|  /organization/9gag|                9GAG|     http://9gag.com|      |Social Media||       Social Media |         28,00,000 |operating|         HKG|      NULL|Hong Kong|   Hong Kong|             2|2008-01-01|2008-01-01 00:00:00|        2008-Q1|        2008|      2011-05-17|     2012-07-30|2800000|       0|                  0|          0|               0|             0|    0|    0|             0|              0|            0|               0|                   0|      0|      0|      0|      0|      0|      0|      0|      0|\n",
            "|/organization/aba...|      Abacuz Limited|http://abacuz.com.hk|                NULL|                NULL|            41,250 |operating|         HKG|      NULL|Hong Kong|   Hong Kong|             1|      NULL|               NULL|           NULL|        NULL|      2014-01-01|     2014-01-01|  41250|       0|                  0|          0|               0|             0|    0|    0|             0|              0|            0|               0|                   0|      0|      0|      0|      0|      0|      0|      0|      0|\n",
            "|/organization/adv...|Advanced Merchant...|http://www.advanc...|                NULL|                NULL|         50,00,000 |operating|         HKG|      NULL|Hong Kong|   Hong Kong|             1|      NULL|               NULL|           NULL|        NULL|      2014-11-19|     2014-11-19|      0| 5000000|                  0|          0|               0|             0|    0|    0|             0|              0|            0|               0|                   0|5000000|      0|      0|      0|      0|      0|      0|      0|\n",
            "|/organization/aft...|           AfterShip|http://www.afters...||Enterprise Softw...| Enterprise Softw...|         10,00,000 |operating|         HKG|      NULL|Hong Kong|   Hong Kong|             2|2011-12-01|2011-12-01 00:00:00|        2011-Q4|        2011|      2012-06-21|     2014-05-20|      0| 1000000|                  0|          0|               0|             0|    0|    0|             0|              0|            0|               0|                   0|1000000|      0|      0|      0|      0|      0|      0|      0|\n",
            "|/organization/agi...|         AgileSource|http://www.agiles...||Open Source|Tabl...|            Tablets |            75,000 |operating|         HKG|      NULL|Hong Kong|   Hong Kong|             1|2010-04-01|2010-04-01 00:00:00|        2010-Q2|        2010|      2010-04-01|     2010-04-01|      0|       0|                  0|          0|               0|             0|75000|    0|             0|              0|            0|               0|                   0|      0|      0|      0|      0|      0|      0|      0|      0|\n",
            "|/organization/chi...|Alibaba Pictures ...|http://chinavisio...|                NULL|                NULL|      80,40,00,000 |operating|         HKG|      NULL|Hong Kong|   Admiralty|             1|      NULL|               NULL|           NULL|        NULL|      2014-03-01|     2014-03-01|      0|       0|                  0|          0|               0|             0|    0|    0|             0|      804000000|            0|               0|                   0|      0|      0|      0|      0|      0|      0|      0|      0|\n",
            "|/organization/ali...|   alife studios inc|http://www.alife-...|             |Games||              Games |               -   |operating|         HKG|      NULL|Hong Kong|   Hong Kong|             1|2011-10-01|2011-10-01 00:00:00|        2011-Q4|        2011|      2011-10-01|     2011-10-01|      0|       0|                  0|          0|               0|             0|    0|    0|             0|              0|            0|               0|                   0|      0|      0|      0|      0|      0|      0|      0|      0|\n",
            "+--------------------+--------------------+--------------------+--------------------+--------------------+-------------------+---------+------------+----------+---------+------------+--------------+----------+-------------------+---------------+------------+----------------+---------------+-------+--------+-------------------+-----------+----------------+--------------+-----+-----+--------------+---------------+-------------+----------------+--------------------+-------+-------+-------+-------+-------+-------+-------+-------+\n",
            "\n"
          ]
        }
      ]
    },
    {
      "cell_type": "markdown",
      "source": [
        "### **Finding most Ventured startups in HKG**"
      ],
      "metadata": {
        "id": "Ih1HEOjjKSkZ"
      }
    },
    {
      "cell_type": "code",
      "source": [
        "most_ventured = spark.sql(\"select * from hkgstartup_table order by venture desc\")"
      ],
      "metadata": {
        "id": "bHXEXXflKMBJ"
      },
      "execution_count": null,
      "outputs": []
    },
    {
      "cell_type": "code",
      "source": [
        "most_ventured.select('name','venture').show()"
      ],
      "metadata": {
        "colab": {
          "base_uri": "https://localhost:8080/"
        },
        "id": "_N64a7oiKrH6",
        "outputId": "0a72df6e-878c-479f-bca8-663a417043ab"
      },
      "execution_count": null,
      "outputs": [
        {
          "output_type": "stream",
          "name": "stdout",
          "text": [
            "+--------------------+--------+\n",
            "|                name| venture|\n",
            "+--------------------+--------+\n",
            "|              6Waves|52588928|\n",
            "|         Ozura World|52500000|\n",
            "|            Kingsoft|50000000|\n",
            "|North Asia Resources|33000000|\n",
            "|             Lucibel|31424480|\n",
            "|Eddingpharm (Cayman)|24000000|\n",
            "|  Appeon Corporation|20000000|\n",
            "|        8 Securities|18500000|\n",
            "|                CMGE|15010000|\n",
            "|Sinocom Pharmaceu...|15000000|\n",
            "|              Lenddo|14000000|\n",
            "|               WeLab|14000000|\n",
            "|             MobGold|14000000|\n",
            "|       Travelzen.com|11660000|\n",
            "|              Testin|11000000|\n",
            "|  Altai Technologies|10000000|\n",
            "|           Aviasales|10000000|\n",
            "|           InvestLab|10000000|\n",
            "|Allied Pacific Sp...| 7000000|\n",
            "|     CDC Corporation| 6500000|\n",
            "+--------------------+--------+\n",
            "only showing top 20 rows\n",
            "\n"
          ]
        }
      ]
    },
    {
      "cell_type": "markdown",
      "source": [
        "# **Finding top 5 countries with the highest funding**"
      ],
      "metadata": {
        "id": "FPRVW7muLJjR"
      }
    },
    {
      "cell_type": "code",
      "source": [
        "df.createOrReplaceTempView('investment')"
      ],
      "metadata": {
        "id": "UGLdNEm5MEsq"
      },
      "execution_count": null,
      "outputs": []
    },
    {
      "cell_type": "code",
      "source": [
        "top5 = spark.sql(\"select * from investment order by ` funding_total_usd ` desc\")"
      ],
      "metadata": {
        "id": "Pzx1ujWJKy-Z"
      },
      "execution_count": null,
      "outputs": []
    },
    {
      "cell_type": "code",
      "source": [
        "top5.select('country_code', '` funding_total_usd `').show()"
      ],
      "metadata": {
        "colab": {
          "base_uri": "https://localhost:8080/"
        },
        "id": "edXxYduAK3r5",
        "outputId": "7d55de9c-51c5-4feb-f92c-9190672759fb"
      },
      "execution_count": null,
      "outputs": [
        {
          "output_type": "stream",
          "name": "stdout",
          "text": [
            "+------------+-------------------+\n",
            "|country_code| funding_total_usd |\n",
            "+------------+-------------------+\n",
            "|         USA|         99,99,999 |\n",
            "|         USA|         99,99,997 |\n",
            "|         USA|         99,90,000 |\n",
            "|         USA|         99,90,000 |\n",
            "|         USA|            99,875 |\n",
            "|         SWE|         99,81,363 |\n",
            "|         BEL|         99,80,000 |\n",
            "|         DNK|            99,627 |\n",
            "|         USA|         99,57,650 |\n",
            "|         USA|         99,52,199 |\n",
            "|         USA|         99,50,002 |\n",
            "|         USA|         99,50,000 |\n",
            "|         USA|         99,50,000 |\n",
            "|         GRC|            99,362 |\n",
            "|         JPN|            99,310 |\n",
            "|         KOR|         99,29,825 |\n",
            "|         GBR|            99,234 |\n",
            "|         USA|         99,18,168 |\n",
            "|         GBR|         99,15,755 |\n",
            "|         USA|         99,15,000 |\n",
            "+------------+-------------------+\n",
            "only showing top 20 rows\n",
            "\n"
          ]
        }
      ]
    },
    {
      "cell_type": "code",
      "source": [],
      "metadata": {
        "id": "-5BjwIwpNTBq"
      },
      "execution_count": null,
      "outputs": []
    }
  ]
}
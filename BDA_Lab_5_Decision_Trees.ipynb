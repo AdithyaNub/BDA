{
  "nbformat": 4,
  "nbformat_minor": 0,
  "metadata": {
    "colab": {
      "provenance": []
    },
    "kernelspec": {
      "name": "python3",
      "display_name": "Python 3"
    },
    "language_info": {
      "name": "python"
    }
  },
  "cells": [
    {
      "cell_type": "markdown",
      "source": [
        "# **Lab 5: Machine Learning Algorithms**\n",
        "\n",
        "Nmae: Madhavi Chitnis\n",
        "\n",
        "PRN: 20220802070\n",
        "\n"
      ],
      "metadata": {
        "id": "3O3SnwPG3WtN"
      }
    },
    {
      "cell_type": "markdown",
      "source": [
        "# **Decision Trees**"
      ],
      "metadata": {
        "id": "kcqm41WtMySW"
      }
    },
    {
      "cell_type": "markdown",
      "source": [
        "\n",
        "\n",
        "---\n",
        "\n"
      ],
      "metadata": {
        "id": "H2lG4EPCM3Lr"
      }
    },
    {
      "cell_type": "code",
      "execution_count": null,
      "metadata": {
        "colab": {
          "base_uri": "https://localhost:8080/",
          "height": 73
        },
        "id": "yvSpgfYd3L7C",
        "outputId": "b9c6172c-3d0b-4d58-936b-0de1ab9f55df"
      },
      "outputs": [
        {
          "output_type": "display_data",
          "data": {
            "text/plain": [
              "<IPython.core.display.HTML object>"
            ],
            "text/html": [
              "\n",
              "     <input type=\"file\" id=\"files-1aef5f1b-b909-45c4-8a4e-c9f05c4cbb20\" name=\"files[]\" multiple disabled\n",
              "        style=\"border:none\" />\n",
              "     <output id=\"result-1aef5f1b-b909-45c4-8a4e-c9f05c4cbb20\">\n",
              "      Upload widget is only available when the cell has been executed in the\n",
              "      current browser session. Please rerun this cell to enable.\n",
              "      </output>\n",
              "      <script>// Copyright 2017 Google LLC\n",
              "//\n",
              "// Licensed under the Apache License, Version 2.0 (the \"License\");\n",
              "// you may not use this file except in compliance with the License.\n",
              "// You may obtain a copy of the License at\n",
              "//\n",
              "//      http://www.apache.org/licenses/LICENSE-2.0\n",
              "//\n",
              "// Unless required by applicable law or agreed to in writing, software\n",
              "// distributed under the License is distributed on an \"AS IS\" BASIS,\n",
              "// WITHOUT WARRANTIES OR CONDITIONS OF ANY KIND, either express or implied.\n",
              "// See the License for the specific language governing permissions and\n",
              "// limitations under the License.\n",
              "\n",
              "/**\n",
              " * @fileoverview Helpers for google.colab Python module.\n",
              " */\n",
              "(function(scope) {\n",
              "function span(text, styleAttributes = {}) {\n",
              "  const element = document.createElement('span');\n",
              "  element.textContent = text;\n",
              "  for (const key of Object.keys(styleAttributes)) {\n",
              "    element.style[key] = styleAttributes[key];\n",
              "  }\n",
              "  return element;\n",
              "}\n",
              "\n",
              "// Max number of bytes which will be uploaded at a time.\n",
              "const MAX_PAYLOAD_SIZE = 100 * 1024;\n",
              "\n",
              "function _uploadFiles(inputId, outputId) {\n",
              "  const steps = uploadFilesStep(inputId, outputId);\n",
              "  const outputElement = document.getElementById(outputId);\n",
              "  // Cache steps on the outputElement to make it available for the next call\n",
              "  // to uploadFilesContinue from Python.\n",
              "  outputElement.steps = steps;\n",
              "\n",
              "  return _uploadFilesContinue(outputId);\n",
              "}\n",
              "\n",
              "// This is roughly an async generator (not supported in the browser yet),\n",
              "// where there are multiple asynchronous steps and the Python side is going\n",
              "// to poll for completion of each step.\n",
              "// This uses a Promise to block the python side on completion of each step,\n",
              "// then passes the result of the previous step as the input to the next step.\n",
              "function _uploadFilesContinue(outputId) {\n",
              "  const outputElement = document.getElementById(outputId);\n",
              "  const steps = outputElement.steps;\n",
              "\n",
              "  const next = steps.next(outputElement.lastPromiseValue);\n",
              "  return Promise.resolve(next.value.promise).then((value) => {\n",
              "    // Cache the last promise value to make it available to the next\n",
              "    // step of the generator.\n",
              "    outputElement.lastPromiseValue = value;\n",
              "    return next.value.response;\n",
              "  });\n",
              "}\n",
              "\n",
              "/**\n",
              " * Generator function which is called between each async step of the upload\n",
              " * process.\n",
              " * @param {string} inputId Element ID of the input file picker element.\n",
              " * @param {string} outputId Element ID of the output display.\n",
              " * @return {!Iterable<!Object>} Iterable of next steps.\n",
              " */\n",
              "function* uploadFilesStep(inputId, outputId) {\n",
              "  const inputElement = document.getElementById(inputId);\n",
              "  inputElement.disabled = false;\n",
              "\n",
              "  const outputElement = document.getElementById(outputId);\n",
              "  outputElement.innerHTML = '';\n",
              "\n",
              "  const pickedPromise = new Promise((resolve) => {\n",
              "    inputElement.addEventListener('change', (e) => {\n",
              "      resolve(e.target.files);\n",
              "    });\n",
              "  });\n",
              "\n",
              "  const cancel = document.createElement('button');\n",
              "  inputElement.parentElement.appendChild(cancel);\n",
              "  cancel.textContent = 'Cancel upload';\n",
              "  const cancelPromise = new Promise((resolve) => {\n",
              "    cancel.onclick = () => {\n",
              "      resolve(null);\n",
              "    };\n",
              "  });\n",
              "\n",
              "  // Wait for the user to pick the files.\n",
              "  const files = yield {\n",
              "    promise: Promise.race([pickedPromise, cancelPromise]),\n",
              "    response: {\n",
              "      action: 'starting',\n",
              "    }\n",
              "  };\n",
              "\n",
              "  cancel.remove();\n",
              "\n",
              "  // Disable the input element since further picks are not allowed.\n",
              "  inputElement.disabled = true;\n",
              "\n",
              "  if (!files) {\n",
              "    return {\n",
              "      response: {\n",
              "        action: 'complete',\n",
              "      }\n",
              "    };\n",
              "  }\n",
              "\n",
              "  for (const file of files) {\n",
              "    const li = document.createElement('li');\n",
              "    li.append(span(file.name, {fontWeight: 'bold'}));\n",
              "    li.append(span(\n",
              "        `(${file.type || 'n/a'}) - ${file.size} bytes, ` +\n",
              "        `last modified: ${\n",
              "            file.lastModifiedDate ? file.lastModifiedDate.toLocaleDateString() :\n",
              "                                    'n/a'} - `));\n",
              "    const percent = span('0% done');\n",
              "    li.appendChild(percent);\n",
              "\n",
              "    outputElement.appendChild(li);\n",
              "\n",
              "    const fileDataPromise = new Promise((resolve) => {\n",
              "      const reader = new FileReader();\n",
              "      reader.onload = (e) => {\n",
              "        resolve(e.target.result);\n",
              "      };\n",
              "      reader.readAsArrayBuffer(file);\n",
              "    });\n",
              "    // Wait for the data to be ready.\n",
              "    let fileData = yield {\n",
              "      promise: fileDataPromise,\n",
              "      response: {\n",
              "        action: 'continue',\n",
              "      }\n",
              "    };\n",
              "\n",
              "    // Use a chunked sending to avoid message size limits. See b/62115660.\n",
              "    let position = 0;\n",
              "    do {\n",
              "      const length = Math.min(fileData.byteLength - position, MAX_PAYLOAD_SIZE);\n",
              "      const chunk = new Uint8Array(fileData, position, length);\n",
              "      position += length;\n",
              "\n",
              "      const base64 = btoa(String.fromCharCode.apply(null, chunk));\n",
              "      yield {\n",
              "        response: {\n",
              "          action: 'append',\n",
              "          file: file.name,\n",
              "          data: base64,\n",
              "        },\n",
              "      };\n",
              "\n",
              "      let percentDone = fileData.byteLength === 0 ?\n",
              "          100 :\n",
              "          Math.round((position / fileData.byteLength) * 100);\n",
              "      percent.textContent = `${percentDone}% done`;\n",
              "\n",
              "    } while (position < fileData.byteLength);\n",
              "  }\n",
              "\n",
              "  // All done.\n",
              "  yield {\n",
              "    response: {\n",
              "      action: 'complete',\n",
              "    }\n",
              "  };\n",
              "}\n",
              "\n",
              "scope.google = scope.google || {};\n",
              "scope.google.colab = scope.google.colab || {};\n",
              "scope.google.colab._files = {\n",
              "  _uploadFiles,\n",
              "  _uploadFilesContinue,\n",
              "};\n",
              "})(self);\n",
              "</script> "
            ]
          },
          "metadata": {}
        },
        {
          "output_type": "stream",
          "name": "stdout",
          "text": [
            "Saving pima.csv to pima.csv\n"
          ]
        }
      ],
      "source": [
        "from google.colab import files\n",
        "uploaded = files.upload()"
      ]
    },
    {
      "cell_type": "markdown",
      "source": [
        "### **Step: 1 Import necessary libraries**"
      ],
      "metadata": {
        "id": "Z31d_yk5_7Mj"
      }
    },
    {
      "cell_type": "code",
      "source": [
        "from pyspark.sql import SparkSession\n",
        "from pyspark.sql.functions import col, when\n",
        "from pyspark.ml.feature import VectorAssembler\n",
        "from pyspark.ml.classification import DecisionTreeClassifier\n",
        "from pyspark.ml.evaluation import BinaryClassificationEvaluator, MulticlassClassificationEvaluator"
      ],
      "metadata": {
        "id": "tUDy4Xat3nbO"
      },
      "execution_count": null,
      "outputs": []
    },
    {
      "cell_type": "markdown",
      "source": [
        "### **Step: 2 Initialize Spark Session**"
      ],
      "metadata": {
        "id": "ZgotJYhg_-2j"
      }
    },
    {
      "cell_type": "code",
      "source": [
        "#Creating a Spark Session\n",
        "spark = SparkSession.builder \\\n",
        ".appName(\"Decision Trees\") \\\n",
        ".getOrCreate()"
      ],
      "metadata": {
        "id": "AtZoCShI3-3m"
      },
      "execution_count": null,
      "outputs": []
    },
    {
      "cell_type": "markdown",
      "source": [
        "### **Step: 3 Load Dataset**"
      ],
      "metadata": {
        "id": "57MAZCwYAMPC"
      }
    },
    {
      "cell_type": "code",
      "source": [
        "# Load the CSV file into a DataFrame\n",
        "df = spark.read.csv(\"pima.csv\", header=True, inferSchema=True)\n"
      ],
      "metadata": {
        "id": "EoXhPqCJ4L0s"
      },
      "execution_count": null,
      "outputs": []
    },
    {
      "cell_type": "markdown",
      "source": [
        "### **Step: 4 Data Preprocessing**"
      ],
      "metadata": {
        "id": "9IbwH-jjARNi"
      }
    },
    {
      "cell_type": "code",
      "source": [
        "df.printSchema()"
      ],
      "metadata": {
        "colab": {
          "base_uri": "https://localhost:8080/"
        },
        "id": "DlS5BRxE4PPb",
        "outputId": "04ae5297-46af-458d-b7b3-f058793115c3"
      },
      "execution_count": null,
      "outputs": [
        {
          "output_type": "stream",
          "name": "stdout",
          "text": [
            "root\n",
            " |-- preg: integer (nullable = true)\n",
            " |-- plas: integer (nullable = true)\n",
            " |-- pres: integer (nullable = true)\n",
            " |-- skin: integer (nullable = true)\n",
            " |-- test: integer (nullable = true)\n",
            " |-- mass: double (nullable = true)\n",
            " |-- pedi: double (nullable = true)\n",
            " |-- age: integer (nullable = true)\n",
            " |-- class: integer (nullable = true)\n",
            "\n"
          ]
        }
      ]
    },
    {
      "cell_type": "code",
      "source": [
        "df.describe().show()"
      ],
      "metadata": {
        "colab": {
          "base_uri": "https://localhost:8080/"
        },
        "id": "9L7lJPD64RCj",
        "outputId": "ab90ee0e-e12a-4c38-9bcf-510732a8bb9a"
      },
      "execution_count": null,
      "outputs": [
        {
          "output_type": "stream",
          "name": "stdout",
          "text": [
            "+-------+------------------+-----------------+------------------+------------------+------------------+------------------+------------------+------------------+------------------+\n",
            "|summary|              preg|             plas|              pres|              skin|              test|              mass|              pedi|               age|             class|\n",
            "+-------+------------------+-----------------+------------------+------------------+------------------+------------------+------------------+------------------+------------------+\n",
            "|  count|               768|              768|               768|               768|               768|               768|               768|               768|               768|\n",
            "|   mean|3.8450520833333335|     120.89453125|       69.10546875|20.536458333333332| 79.79947916666667|31.992578124999977|0.4718763020833327|33.240885416666664|0.3489583333333333|\n",
            "| stddev|  3.36957806269887|31.97261819513622|19.355807170644777|15.952217567727642|115.24400235133803| 7.884160320375441| 0.331328595012775|11.760231540678689| 0.476951377242799|\n",
            "|    min|                 0|                0|                 0|                 0|                 0|               0.0|             0.078|                21|                 0|\n",
            "|    max|                17|              199|               122|                99|               846|              67.1|              2.42|                81|                 1|\n",
            "+-------+------------------+-----------------+------------------+------------------+------------------+------------------+------------------+------------------+------------------+\n",
            "\n"
          ]
        }
      ]
    },
    {
      "cell_type": "markdown",
      "source": [
        "### **Handle Missing Values (if any) (Replacing 0s with median)**"
      ],
      "metadata": {
        "id": "-OZj2lAMAV-L"
      }
    },
    {
      "cell_type": "code",
      "source": [
        "columns_to_fix = [\"plas\", \"pres\", \"skin\", \"test\", \"mass\"]\n",
        "for col_name in columns_to_fix:\n",
        "    median_value = df.approxQuantile(col_name, [0.5], 0.0)[0]  # Compute median\n",
        "    df = df.withColumn(col_name, col(col_name).cast(\"double\"))  # Ensure column is double type\n",
        "    df = df.withColumn(col_name, when(col(col_name) == 0, median_value).otherwise(col(col_name)))  # Replace 0s with median"
      ],
      "metadata": {
        "id": "1n4IXfTo4Y8r"
      },
      "execution_count": null,
      "outputs": []
    },
    {
      "cell_type": "markdown",
      "source": [
        "### **Step: 5 Convert Features into Sparse Vectors**"
      ],
      "metadata": {
        "id": "-h5NZtKxAdwr"
      }
    },
    {
      "cell_type": "code",
      "source": [
        "feature_cols = [col for col in df.columns if col != \"class\"]\n",
        "vector_assembler = VectorAssembler(inputCols=feature_cols, outputCol=\"features\")\n",
        "df = vector_assembler.transform(df).select(\"features\", col(\"class\").alias(\"label\"))"
      ],
      "metadata": {
        "id": "31qUfhTa4bYc"
      },
      "execution_count": null,
      "outputs": []
    },
    {
      "cell_type": "markdown",
      "source": [
        "### **Step: 6 Split Data into Training and Testing Sets**"
      ],
      "metadata": {
        "id": "ZeEyqTmQAjqa"
      }
    },
    {
      "cell_type": "code",
      "source": [
        "train_df, test_df = df.randomSplit([0.8, 0.2], seed=42)"
      ],
      "metadata": {
        "id": "ro0v3Mc64c1r"
      },
      "execution_count": null,
      "outputs": []
    },
    {
      "cell_type": "markdown",
      "source": [
        "### **Step: 7 Train Decision Tree Model**"
      ],
      "metadata": {
        "id": "GC8oFN87A6c7"
      }
    },
    {
      "cell_type": "code",
      "source": [
        "dt = DecisionTreeClassifier(labelCol=\"label\", featuresCol=\"features\", maxDepth=5)\n",
        "dt_model = dt.fit(train_df)"
      ],
      "metadata": {
        "id": "_h7cnDkm4ebj"
      },
      "execution_count": null,
      "outputs": []
    },
    {
      "cell_type": "markdown",
      "source": [
        "### **Step: 8 Make Predictions**"
      ],
      "metadata": {
        "id": "Tpqnm5MGBCBK"
      }
    },
    {
      "cell_type": "code",
      "source": [
        "predictions = dt_model.transform(test_df)"
      ],
      "metadata": {
        "id": "YSdHPkU64gfM"
      },
      "execution_count": null,
      "outputs": []
    },
    {
      "cell_type": "markdown",
      "source": [
        "### **Step: 9 Model Evaluation**"
      ],
      "metadata": {
        "id": "lgiZjv2JBILL"
      }
    },
    {
      "cell_type": "code",
      "source": [
        "accuracy_eval = MulticlassClassificationEvaluator(labelCol=\"label\", metricName=\"accuracy\")\n",
        "precision_eval = MulticlassClassificationEvaluator(labelCol=\"label\", metricName=\"weightedPrecision\")\n",
        "recall_eval = MulticlassClassificationEvaluator(labelCol=\"label\", metricName=\"weightedRecall\")\n",
        "auc_eval = BinaryClassificationEvaluator(labelCol=\"label\", metricName=\"areaUnderROC\")\n",
        "\n",
        "accuracy = accuracy_eval.evaluate(predictions)\n",
        "precision = precision_eval.evaluate(predictions)\n",
        "recall = recall_eval.evaluate(predictions)\n",
        "auc = auc_eval.evaluate(predictions)\n",
        "\n",
        "print(f\"Accuracy: {accuracy:.4f}\")\n",
        "print(f\"Precision: {precision:.4f}\")\n",
        "print(f\"Recall: {recall:.4f}\")\n",
        "print(f\"AUC: {auc:.4f}\")"
      ],
      "metadata": {
        "colab": {
          "base_uri": "https://localhost:8080/"
        },
        "id": "rFWXZA7I4h_M",
        "outputId": "e2c25d54-a89b-4d03-8ae4-92cd1ab48831"
      },
      "execution_count": null,
      "outputs": [
        {
          "output_type": "stream",
          "name": "stdout",
          "text": [
            "Accuracy: 0.7561\n",
            "Precision: 0.7504\n",
            "Recall: 0.7561\n",
            "AUC: 0.7640\n"
          ]
        }
      ]
    },
    {
      "cell_type": "markdown",
      "source": [
        "### **Step: 10 Feature Importance**"
      ],
      "metadata": {
        "id": "bml0QslnBMVD"
      }
    },
    {
      "cell_type": "code",
      "source": [
        "feature_importance = dt_model.featureImportances\n",
        "for i, importance in enumerate(feature_importance):\n",
        "    print(f\"Feature {feature_cols[i]}: {importance:.4f}\")"
      ],
      "metadata": {
        "colab": {
          "base_uri": "https://localhost:8080/"
        },
        "id": "MmwI5XVp4jWM",
        "outputId": "ad90e358-a1e9-45e7-c2c8-85d12ec7dd99"
      },
      "execution_count": null,
      "outputs": [
        {
          "output_type": "stream",
          "name": "stdout",
          "text": [
            "Feature preg: 0.0416\n",
            "Feature plas: 0.4950\n",
            "Feature pres: 0.0234\n",
            "Feature skin: 0.0227\n",
            "Feature test: 0.0224\n",
            "Feature mass: 0.1551\n",
            "Feature pedi: 0.0592\n",
            "Feature age: 0.1807\n"
          ]
        }
      ]
    },
    {
      "cell_type": "markdown",
      "source": [
        "### **Stop Spark Session**"
      ],
      "metadata": {
        "id": "AVHQs2lhBRLb"
      }
    },
    {
      "cell_type": "code",
      "source": [
        "spark.stop()"
      ],
      "metadata": {
        "id": "xP1rnFRK5VQc"
      },
      "execution_count": null,
      "outputs": []
    }
  ]
}